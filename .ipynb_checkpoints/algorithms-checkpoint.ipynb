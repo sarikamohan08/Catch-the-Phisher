{
 "cells": [
  {
   "cell_type": "code",
   "execution_count": 69,
   "id": "85cfb551",
   "metadata": {},
   "outputs": [],
   "source": [
    "#importing necessary packages\n",
    "import pandas as pd\n",
    "import numpy as np\n",
    "from sklearn.model_selection import train_test_split,GridSearchCV,KFold,cross_val_score\n",
    "from sklearn.preprocessing import LabelEncoder\n",
    "from sklearn.ensemble import RandomForestClassifier\n",
    "from sklearn.metrics import accuracy_score,auc,classification_report,roc_curve,roc_auc_score\n",
    "from sklearn.decomposition import PCA\n",
    "from imblearn.over_sampling import SMOTE\n",
    "import matplotlib.pyplot as plt\n",
    "from matplotlib import rcParams\n",
    "import seaborn as sns\n",
    "from sklearn.tree import DecisionTreeClassifier\n",
    "from sklearn.naive_bayes import GaussianNB  \n",
    "from sklearn.neighbors import KNeighborsClassifier\n",
    "from sklearn.svm import SVC\n",
    "from sklearn.linear_model import LogisticRegression\n",
    "from scipy.stats import chi2_contingency"
   ]
  },
  {
   "cell_type": "code",
   "execution_count": 70,
   "id": "6679d3c3",
   "metadata": {},
   "outputs": [
    {
     "name": "stdout",
     "output_type": "stream",
     "text": [
      "(11055, 31)\n"
     ]
    },
    {
     "data": {
      "text/html": [
       "<div>\n",
       "<style scoped>\n",
       "    .dataframe tbody tr th:only-of-type {\n",
       "        vertical-align: middle;\n",
       "    }\n",
       "\n",
       "    .dataframe tbody tr th {\n",
       "        vertical-align: top;\n",
       "    }\n",
       "\n",
       "    .dataframe thead th {\n",
       "        text-align: right;\n",
       "    }\n",
       "</style>\n",
       "<table border=\"1\" class=\"dataframe\">\n",
       "  <thead>\n",
       "    <tr style=\"text-align: right;\">\n",
       "      <th></th>\n",
       "      <th>having_IP_Address</th>\n",
       "      <th>URL_Length</th>\n",
       "      <th>Shortining_Service</th>\n",
       "      <th>having_At_Symbol</th>\n",
       "      <th>double_slash_redirecting</th>\n",
       "      <th>Prefix_Suffix</th>\n",
       "      <th>having_Sub_Domain</th>\n",
       "      <th>SSLfinal_State</th>\n",
       "      <th>Domain_registeration_length</th>\n",
       "      <th>Favicon</th>\n",
       "      <th>...</th>\n",
       "      <th>popUpWidnow</th>\n",
       "      <th>Iframe</th>\n",
       "      <th>age_of_domain</th>\n",
       "      <th>DNSRecord</th>\n",
       "      <th>web_traffic</th>\n",
       "      <th>Page_Rank</th>\n",
       "      <th>Google_Index</th>\n",
       "      <th>Links_pointing_to_page</th>\n",
       "      <th>Statistical_report</th>\n",
       "      <th>Result</th>\n",
       "    </tr>\n",
       "  </thead>\n",
       "  <tbody>\n",
       "    <tr>\n",
       "      <th>0</th>\n",
       "      <td>-1</td>\n",
       "      <td>1</td>\n",
       "      <td>1</td>\n",
       "      <td>1</td>\n",
       "      <td>-1</td>\n",
       "      <td>-1</td>\n",
       "      <td>-1</td>\n",
       "      <td>-1</td>\n",
       "      <td>-1</td>\n",
       "      <td>1</td>\n",
       "      <td>...</td>\n",
       "      <td>1</td>\n",
       "      <td>1</td>\n",
       "      <td>-1</td>\n",
       "      <td>-1</td>\n",
       "      <td>-1</td>\n",
       "      <td>-1</td>\n",
       "      <td>1</td>\n",
       "      <td>1</td>\n",
       "      <td>-1</td>\n",
       "      <td>-1</td>\n",
       "    </tr>\n",
       "    <tr>\n",
       "      <th>1</th>\n",
       "      <td>1</td>\n",
       "      <td>1</td>\n",
       "      <td>1</td>\n",
       "      <td>1</td>\n",
       "      <td>1</td>\n",
       "      <td>-1</td>\n",
       "      <td>0</td>\n",
       "      <td>1</td>\n",
       "      <td>-1</td>\n",
       "      <td>1</td>\n",
       "      <td>...</td>\n",
       "      <td>1</td>\n",
       "      <td>1</td>\n",
       "      <td>-1</td>\n",
       "      <td>-1</td>\n",
       "      <td>0</td>\n",
       "      <td>-1</td>\n",
       "      <td>1</td>\n",
       "      <td>1</td>\n",
       "      <td>1</td>\n",
       "      <td>-1</td>\n",
       "    </tr>\n",
       "    <tr>\n",
       "      <th>2</th>\n",
       "      <td>1</td>\n",
       "      <td>0</td>\n",
       "      <td>1</td>\n",
       "      <td>1</td>\n",
       "      <td>1</td>\n",
       "      <td>-1</td>\n",
       "      <td>-1</td>\n",
       "      <td>-1</td>\n",
       "      <td>-1</td>\n",
       "      <td>1</td>\n",
       "      <td>...</td>\n",
       "      <td>1</td>\n",
       "      <td>1</td>\n",
       "      <td>1</td>\n",
       "      <td>-1</td>\n",
       "      <td>1</td>\n",
       "      <td>-1</td>\n",
       "      <td>1</td>\n",
       "      <td>0</td>\n",
       "      <td>-1</td>\n",
       "      <td>-1</td>\n",
       "    </tr>\n",
       "    <tr>\n",
       "      <th>3</th>\n",
       "      <td>1</td>\n",
       "      <td>0</td>\n",
       "      <td>1</td>\n",
       "      <td>1</td>\n",
       "      <td>1</td>\n",
       "      <td>-1</td>\n",
       "      <td>-1</td>\n",
       "      <td>-1</td>\n",
       "      <td>1</td>\n",
       "      <td>1</td>\n",
       "      <td>...</td>\n",
       "      <td>1</td>\n",
       "      <td>1</td>\n",
       "      <td>-1</td>\n",
       "      <td>-1</td>\n",
       "      <td>1</td>\n",
       "      <td>-1</td>\n",
       "      <td>1</td>\n",
       "      <td>-1</td>\n",
       "      <td>1</td>\n",
       "      <td>-1</td>\n",
       "    </tr>\n",
       "    <tr>\n",
       "      <th>4</th>\n",
       "      <td>1</td>\n",
       "      <td>0</td>\n",
       "      <td>-1</td>\n",
       "      <td>1</td>\n",
       "      <td>1</td>\n",
       "      <td>-1</td>\n",
       "      <td>1</td>\n",
       "      <td>1</td>\n",
       "      <td>-1</td>\n",
       "      <td>1</td>\n",
       "      <td>...</td>\n",
       "      <td>-1</td>\n",
       "      <td>1</td>\n",
       "      <td>-1</td>\n",
       "      <td>-1</td>\n",
       "      <td>0</td>\n",
       "      <td>-1</td>\n",
       "      <td>1</td>\n",
       "      <td>1</td>\n",
       "      <td>1</td>\n",
       "      <td>1</td>\n",
       "    </tr>\n",
       "  </tbody>\n",
       "</table>\n",
       "<p>5 rows × 31 columns</p>\n",
       "</div>"
      ],
      "text/plain": [
       "   having_IP_Address  URL_Length  Shortining_Service  having_At_Symbol  \\\n",
       "0                 -1           1                   1                 1   \n",
       "1                  1           1                   1                 1   \n",
       "2                  1           0                   1                 1   \n",
       "3                  1           0                   1                 1   \n",
       "4                  1           0                  -1                 1   \n",
       "\n",
       "   double_slash_redirecting  Prefix_Suffix  having_Sub_Domain  SSLfinal_State  \\\n",
       "0                        -1             -1                 -1              -1   \n",
       "1                         1             -1                  0               1   \n",
       "2                         1             -1                 -1              -1   \n",
       "3                         1             -1                 -1              -1   \n",
       "4                         1             -1                  1               1   \n",
       "\n",
       "   Domain_registeration_length  Favicon  ...  popUpWidnow  Iframe  \\\n",
       "0                           -1        1  ...            1       1   \n",
       "1                           -1        1  ...            1       1   \n",
       "2                           -1        1  ...            1       1   \n",
       "3                            1        1  ...            1       1   \n",
       "4                           -1        1  ...           -1       1   \n",
       "\n",
       "   age_of_domain  DNSRecord  web_traffic  Page_Rank  Google_Index  \\\n",
       "0             -1         -1           -1         -1             1   \n",
       "1             -1         -1            0         -1             1   \n",
       "2              1         -1            1         -1             1   \n",
       "3             -1         -1            1         -1             1   \n",
       "4             -1         -1            0         -1             1   \n",
       "\n",
       "   Links_pointing_to_page  Statistical_report  Result  \n",
       "0                       1                  -1      -1  \n",
       "1                       1                   1      -1  \n",
       "2                       0                  -1      -1  \n",
       "3                      -1                   1      -1  \n",
       "4                       1                   1       1  \n",
       "\n",
       "[5 rows x 31 columns]"
      ]
     },
     "execution_count": 70,
     "metadata": {},
     "output_type": "execute_result"
    }
   ],
   "source": [
    "df= pd.read_csv('phising.csv')\n",
    "print(df.shape)\n",
    "df.head()"
   ]
  },
  {
   "cell_type": "code",
   "execution_count": 71,
   "id": "64eaaa6b",
   "metadata": {},
   "outputs": [
    {
     "name": "stdout",
     "output_type": "stream",
     "text": [
      "having_IP_Address              0\n",
      "URL_Length                     0\n",
      "Shortining_Service             0\n",
      "having_At_Symbol               0\n",
      "double_slash_redirecting       0\n",
      "Prefix_Suffix                  0\n",
      "having_Sub_Domain              0\n",
      "SSLfinal_State                 0\n",
      "Domain_registeration_length    0\n",
      "Favicon                        0\n",
      "port                           0\n",
      "HTTPS_token                    0\n",
      "Request_URL                    0\n",
      "URL_of_Anchor                  0\n",
      "Links_in_tags                  0\n",
      "SFH                            0\n",
      "Submitting_to_email            0\n",
      "Abnormal_URL                   0\n",
      "Redirect                       0\n",
      "on_mouseover                   0\n",
      "RightClick                     0\n",
      "popUpWidnow                    0\n",
      "Iframe                         0\n",
      "age_of_domain                  0\n",
      "DNSRecord                      0\n",
      "web_traffic                    0\n",
      "Page_Rank                      0\n",
      "Google_Index                   0\n",
      "Links_pointing_to_page         0\n",
      "Statistical_report             0\n",
      "Result                         0\n",
      "dtype: int64\n",
      "<class 'pandas.core.frame.DataFrame'>\n",
      "RangeIndex: 11055 entries, 0 to 11054\n",
      "Data columns (total 31 columns):\n",
      "having_IP_Address              11055 non-null int64\n",
      "URL_Length                     11055 non-null int64\n",
      "Shortining_Service             11055 non-null int64\n",
      "having_At_Symbol               11055 non-null int64\n",
      "double_slash_redirecting       11055 non-null int64\n",
      "Prefix_Suffix                  11055 non-null int64\n",
      "having_Sub_Domain              11055 non-null int64\n",
      "SSLfinal_State                 11055 non-null int64\n",
      "Domain_registeration_length    11055 non-null int64\n",
      "Favicon                        11055 non-null int64\n",
      "port                           11055 non-null int64\n",
      "HTTPS_token                    11055 non-null int64\n",
      "Request_URL                    11055 non-null int64\n",
      "URL_of_Anchor                  11055 non-null int64\n",
      "Links_in_tags                  11055 non-null int64\n",
      "SFH                            11055 non-null int64\n",
      "Submitting_to_email            11055 non-null int64\n",
      "Abnormal_URL                   11055 non-null int64\n",
      "Redirect                       11055 non-null int64\n",
      "on_mouseover                   11055 non-null int64\n",
      "RightClick                     11055 non-null int64\n",
      "popUpWidnow                    11055 non-null int64\n",
      "Iframe                         11055 non-null int64\n",
      "age_of_domain                  11055 non-null int64\n",
      "DNSRecord                      11055 non-null int64\n",
      "web_traffic                    11055 non-null int64\n",
      "Page_Rank                      11055 non-null int64\n",
      "Google_Index                   11055 non-null int64\n",
      "Links_pointing_to_page         11055 non-null int64\n",
      "Statistical_report             11055 non-null int64\n",
      "Result                         11055 non-null int64\n",
      "dtypes: int64(31)\n",
      "memory usage: 2.6 MB\n",
      "None\n"
     ]
    }
   ],
   "source": [
    "#performing basic checks\n",
    "print(df.isnull().sum())\n",
    "print(df.info())\n"
   ]
  },
  {
   "cell_type": "code",
   "execution_count": 72,
   "id": "c41c81a6",
   "metadata": {},
   "outputs": [],
   "source": [
    "#drop non related features\n",
    "df.drop(columns=['Statistical_report','Iframe','popUpWidnow',\n",
    "         'on_mouseover','Submitting_to_email',\n",
    "         'HTTPS_token','port','Favicon','having_At_Symbol'],\n",
    "        axis=1,inplace=True)"
   ]
  },
  {
   "cell_type": "code",
   "execution_count": 73,
   "id": "35ae198a",
   "metadata": {},
   "outputs": [],
   "source": [
    "x= df.iloc[:,:-1].astype(object)\n",
    "y=df['Result']"
   ]
  },
  {
   "cell_type": "code",
   "execution_count": 106,
   "id": "ccc4af02",
   "metadata": {},
   "outputs": [
    {
     "data": {
      "text/plain": [
       "RangeIndex(start=0, stop=21, step=1)"
      ]
     },
     "execution_count": 106,
     "metadata": {},
     "output_type": "execute_result"
    }
   ],
   "source": [
    "col=x.columns\n",
    "col"
   ]
  },
  {
   "cell_type": "code",
   "execution_count": 107,
   "id": "e4c22f76",
   "metadata": {},
   "outputs": [],
   "source": [
    "import csv  \n",
    "\n",
    "with open('testing.csv', 'w', encoding='UTF8') as f:\n",
    "    writer = csv.writer(f)\n",
    "\n",
    "    # write the header\n",
    "    writer.writerow(col)\n",
    "\n",
    "    # write the data\n",
    "    writer.writerow(X)"
   ]
  },
  {
   "cell_type": "code",
   "execution_count": 74,
   "id": "56e90d9c",
   "metadata": {},
   "outputs": [
    {
     "name": "stdout",
     "output_type": "stream",
     "text": [
      "<class 'pandas.core.frame.DataFrame'>\n",
      "RangeIndex: 11055 entries, 0 to 11054\n",
      "Data columns (total 21 columns):\n",
      "having_IP_Address              11055 non-null object\n",
      "URL_Length                     11055 non-null object\n",
      "Shortining_Service             11055 non-null object\n",
      "double_slash_redirecting       11055 non-null object\n",
      "Prefix_Suffix                  11055 non-null object\n",
      "having_Sub_Domain              11055 non-null object\n",
      "SSLfinal_State                 11055 non-null object\n",
      "Domain_registeration_length    11055 non-null object\n",
      "Request_URL                    11055 non-null object\n",
      "URL_of_Anchor                  11055 non-null object\n",
      "Links_in_tags                  11055 non-null object\n",
      "SFH                            11055 non-null object\n",
      "Abnormal_URL                   11055 non-null object\n",
      "Redirect                       11055 non-null object\n",
      "RightClick                     11055 non-null object\n",
      "age_of_domain                  11055 non-null object\n",
      "DNSRecord                      11055 non-null object\n",
      "web_traffic                    11055 non-null object\n",
      "Page_Rank                      11055 non-null object\n",
      "Google_Index                   11055 non-null object\n",
      "Links_pointing_to_page         11055 non-null object\n",
      "dtypes: object(21)\n",
      "memory usage: 1.8+ MB\n"
     ]
    }
   ],
   "source": [
    "x.info()"
   ]
  },
  {
   "cell_type": "code",
   "execution_count": 75,
   "id": "7bb51d2a",
   "metadata": {},
   "outputs": [],
   "source": [
    "from sklearn.preprocessing import StandardScaler\n",
    "scalar  = StandardScaler()\n",
    "scaled_data = scalar.fit_transform(x)"
   ]
  },
  {
   "cell_type": "code",
   "execution_count": 76,
   "id": "c4dca627",
   "metadata": {},
   "outputs": [
    {
     "data": {
      "text/html": [
       "<div>\n",
       "<style scoped>\n",
       "    .dataframe tbody tr th:only-of-type {\n",
       "        vertical-align: middle;\n",
       "    }\n",
       "\n",
       "    .dataframe tbody tr th {\n",
       "        vertical-align: top;\n",
       "    }\n",
       "\n",
       "    .dataframe thead th {\n",
       "        text-align: right;\n",
       "    }\n",
       "</style>\n",
       "<table border=\"1\" class=\"dataframe\">\n",
       "  <thead>\n",
       "    <tr style=\"text-align: right;\">\n",
       "      <th></th>\n",
       "      <th>0</th>\n",
       "      <th>1</th>\n",
       "      <th>2</th>\n",
       "      <th>3</th>\n",
       "      <th>4</th>\n",
       "      <th>5</th>\n",
       "      <th>6</th>\n",
       "      <th>7</th>\n",
       "      <th>8</th>\n",
       "      <th>9</th>\n",
       "      <th>...</th>\n",
       "      <th>11</th>\n",
       "      <th>12</th>\n",
       "      <th>13</th>\n",
       "      <th>14</th>\n",
       "      <th>15</th>\n",
       "      <th>16</th>\n",
       "      <th>17</th>\n",
       "      <th>18</th>\n",
       "      <th>19</th>\n",
       "      <th>20</th>\n",
       "    </tr>\n",
       "  </thead>\n",
       "  <tbody>\n",
       "    <tr>\n",
       "      <th>0</th>\n",
       "      <td>0.240857</td>\n",
       "      <td>2.790134</td>\n",
       "      <td>-2.460660</td>\n",
       "      <td>-0.651789</td>\n",
       "      <td>0.170625</td>\n",
       "      <td>0.349632</td>\n",
       "      <td>-0.475998</td>\n",
       "      <td>-0.667330</td>\n",
       "      <td>1.257793</td>\n",
       "      <td>0.864782</td>\n",
       "      <td>...</td>\n",
       "      <td>-0.219467</td>\n",
       "      <td>0.138482</td>\n",
       "      <td>0.353048</td>\n",
       "      <td>0.675946</td>\n",
       "      <td>0.894278</td>\n",
       "      <td>-0.063213</td>\n",
       "      <td>-0.541114</td>\n",
       "      <td>0.501641</td>\n",
       "      <td>-1.250294</td>\n",
       "      <td>-0.987347</td>\n",
       "    </tr>\n",
       "    <tr>\n",
       "      <th>1</th>\n",
       "      <td>0.658318</td>\n",
       "      <td>-0.224639</td>\n",
       "      <td>-1.080069</td>\n",
       "      <td>-0.999167</td>\n",
       "      <td>-0.988480</td>\n",
       "      <td>0.746357</td>\n",
       "      <td>-0.188653</td>\n",
       "      <td>-0.085084</td>\n",
       "      <td>-1.176667</td>\n",
       "      <td>0.930242</td>\n",
       "      <td>...</td>\n",
       "      <td>-0.242841</td>\n",
       "      <td>-0.316790</td>\n",
       "      <td>0.068591</td>\n",
       "      <td>1.347992</td>\n",
       "      <td>1.088595</td>\n",
       "      <td>-0.118375</td>\n",
       "      <td>-0.210533</td>\n",
       "      <td>-0.260355</td>\n",
       "      <td>-0.101061</td>\n",
       "      <td>-0.053715</td>\n",
       "    </tr>\n",
       "    <tr>\n",
       "      <th>2</th>\n",
       "      <td>0.453251</td>\n",
       "      <td>0.686791</td>\n",
       "      <td>-0.873488</td>\n",
       "      <td>-2.215446</td>\n",
       "      <td>0.123773</td>\n",
       "      <td>-0.202833</td>\n",
       "      <td>1.087286</td>\n",
       "      <td>0.707612</td>\n",
       "      <td>-0.341302</td>\n",
       "      <td>0.124591</td>\n",
       "      <td>...</td>\n",
       "      <td>0.889354</td>\n",
       "      <td>0.593509</td>\n",
       "      <td>-0.020307</td>\n",
       "      <td>-0.253006</td>\n",
       "      <td>0.723389</td>\n",
       "      <td>0.024207</td>\n",
       "      <td>-0.529978</td>\n",
       "      <td>1.448838</td>\n",
       "      <td>-0.125124</td>\n",
       "      <td>0.012569</td>\n",
       "    </tr>\n",
       "    <tr>\n",
       "      <th>3</th>\n",
       "      <td>-2.059316</td>\n",
       "      <td>0.237690</td>\n",
       "      <td>-0.112323</td>\n",
       "      <td>-0.905261</td>\n",
       "      <td>-1.232791</td>\n",
       "      <td>0.668653</td>\n",
       "      <td>1.176992</td>\n",
       "      <td>-0.143339</td>\n",
       "      <td>0.517313</td>\n",
       "      <td>-0.129502</td>\n",
       "      <td>...</td>\n",
       "      <td>0.390874</td>\n",
       "      <td>0.737615</td>\n",
       "      <td>0.021002</td>\n",
       "      <td>0.586084</td>\n",
       "      <td>0.649596</td>\n",
       "      <td>1.406424</td>\n",
       "      <td>0.460842</td>\n",
       "      <td>0.385251</td>\n",
       "      <td>-0.024130</td>\n",
       "      <td>0.019499</td>\n",
       "    </tr>\n",
       "    <tr>\n",
       "      <th>4</th>\n",
       "      <td>1.083504</td>\n",
       "      <td>0.571745</td>\n",
       "      <td>-0.557610</td>\n",
       "      <td>-0.633726</td>\n",
       "      <td>-1.366600</td>\n",
       "      <td>0.336196</td>\n",
       "      <td>-1.236697</td>\n",
       "      <td>-0.080389</td>\n",
       "      <td>-0.515733</td>\n",
       "      <td>0.103772</td>\n",
       "      <td>...</td>\n",
       "      <td>-0.135934</td>\n",
       "      <td>-0.215368</td>\n",
       "      <td>0.118408</td>\n",
       "      <td>0.961872</td>\n",
       "      <td>0.650594</td>\n",
       "      <td>-0.154942</td>\n",
       "      <td>0.021585</td>\n",
       "      <td>-0.872449</td>\n",
       "      <td>1.398305</td>\n",
       "      <td>0.297530</td>\n",
       "    </tr>\n",
       "  </tbody>\n",
       "</table>\n",
       "<p>5 rows × 21 columns</p>\n",
       "</div>"
      ],
      "text/plain": [
       "         0         1         2         3         4         5         6   \\\n",
       "0  0.240857  2.790134 -2.460660 -0.651789  0.170625  0.349632 -0.475998   \n",
       "1  0.658318 -0.224639 -1.080069 -0.999167 -0.988480  0.746357 -0.188653   \n",
       "2  0.453251  0.686791 -0.873488 -2.215446  0.123773 -0.202833  1.087286   \n",
       "3 -2.059316  0.237690 -0.112323 -0.905261 -1.232791  0.668653  1.176992   \n",
       "4  1.083504  0.571745 -0.557610 -0.633726 -1.366600  0.336196 -1.236697   \n",
       "\n",
       "         7         8         9   ...        11        12        13        14  \\\n",
       "0 -0.667330  1.257793  0.864782  ... -0.219467  0.138482  0.353048  0.675946   \n",
       "1 -0.085084 -1.176667  0.930242  ... -0.242841 -0.316790  0.068591  1.347992   \n",
       "2  0.707612 -0.341302  0.124591  ...  0.889354  0.593509 -0.020307 -0.253006   \n",
       "3 -0.143339  0.517313 -0.129502  ...  0.390874  0.737615  0.021002  0.586084   \n",
       "4 -0.080389 -0.515733  0.103772  ... -0.135934 -0.215368  0.118408  0.961872   \n",
       "\n",
       "         15        16        17        18        19        20  \n",
       "0  0.894278 -0.063213 -0.541114  0.501641 -1.250294 -0.987347  \n",
       "1  1.088595 -0.118375 -0.210533 -0.260355 -0.101061 -0.053715  \n",
       "2  0.723389  0.024207 -0.529978  1.448838 -0.125124  0.012569  \n",
       "3  0.649596  1.406424  0.460842  0.385251 -0.024130  0.019499  \n",
       "4  0.650594 -0.154942  0.021585 -0.872449  1.398305  0.297530  \n",
       "\n",
       "[5 rows x 21 columns]"
      ]
     },
     "execution_count": 76,
     "metadata": {},
     "output_type": "execute_result"
    }
   ],
   "source": [
    "pca = PCA()\n",
    "x = pd.DataFrame(pca.fit_transform(x))\n",
    "x.head()"
   ]
  },
  {
   "cell_type": "code",
   "execution_count": 77,
   "id": "69da8ae1",
   "metadata": {},
   "outputs": [
    {
     "data": {
      "image/png": "[encoded data removed]",
      "text/plain": [
       "<Figure size 720x720 with 1 Axes>"
      ]
     },
     "metadata": {
      "needs_background": "light"
     },
     "output_type": "display_data"
    }
   ],
   "source": [
    "from sklearn.decomposition import PCA\n",
    "pca=PCA()\n",
    "pca.fit_transform(x)\n",
    "plt.figure(figsize=(10,10))\n",
    "plt.plot(np.cumsum(pca.explained_variance_ratio_))\n",
    "plt.xlabel('number of columns')\n",
    "plt.ylabel('EVR')\n",
    "plt.show()"
   ]
  },
  {
   "cell_type": "code",
   "execution_count": 78,
   "id": "4b626f75",
   "metadata": {},
   "outputs": [],
   "source": [
    "pca1 = PCA(n_components=0.95)"
   ]
  },
  {
   "cell_type": "code",
   "execution_count": 79,
   "id": "c5d142d1",
   "metadata": {},
   "outputs": [],
   "source": [
    "new_data1=pca1.fit_transform(x)"
   ]
  },
  {
   "cell_type": "code",
   "execution_count": 80,
   "id": "312e4e51",
   "metadata": {},
   "outputs": [],
   "source": [
    "s=pd.DataFrame(scalar.transform(np.array([[-1,1,1,-1,-1,-1,-1,-1,1,-1,1,-1,-1,0,1,-1,-1,-1,-1,1,1]])))"
   ]
  },
  {
   "cell_type": "code",
   "execution_count": 81,
   "id": "2852df72",
   "metadata": {},
   "outputs": [
    {
     "data": {
      "text/plain": [
       "array([[-1.3836833 ,  2.13194274,  0.38761387, -2.59541502, -0.39084945,\n",
       "        -1.30150149, -1.37185464, -0.70437413,  0.82777619, -1.29138103,\n",
       "         1.46364816, -0.53253435, -2.40548789, -0.36170514,  0.21211978,\n",
       "        -1.06323483]])"
      ]
     },
     "execution_count": 81,
     "metadata": {},
     "output_type": "execute_result"
    }
   ],
   "source": [
    "pca1.transform(s)"
   ]
  },
  {
   "cell_type": "code",
   "execution_count": 82,
   "id": "7700eeab",
   "metadata": {},
   "outputs": [
    {
     "data": {
      "text/plain": [
       "16"
      ]
     },
     "execution_count": 82,
     "metadata": {},
     "output_type": "execute_result"
    }
   ],
   "source": [
    "pca1.n_components_"
   ]
  },
  {
   "cell_type": "code",
   "execution_count": 83,
   "id": "8277a43a",
   "metadata": {},
   "outputs": [],
   "source": [
    "x1=new_data1\n",
    "y1=y"
   ]
  },
  {
   "cell_type": "code",
   "execution_count": 84,
   "id": "5d89057e",
   "metadata": {},
   "outputs": [
    {
     "data": {
      "text/plain": [
       "array([[ 0.240857  ,  2.79013417, -2.46065967, ...,  0.35304847,\n",
       "         0.67594644,  0.89427795],\n",
       "       [ 0.65831762, -0.22463916, -1.08006927, ...,  0.06859134,\n",
       "         1.34799202,  1.08859512],\n",
       "       [ 0.45325053,  0.68679073, -0.87348813, ..., -0.02030681,\n",
       "        -0.25300597,  0.72338872],\n",
       "       ...,\n",
       "       [ 0.23925522, -1.09775535, -0.2651509 , ..., -0.23152525,\n",
       "        -0.42969536,  0.22533361],\n",
       "       [-1.85935573,  0.7331113 ,  0.83883434, ...,  0.02109229,\n",
       "        -0.02530897, -0.22784032],\n",
       "       [-2.94541874,  1.0056408 , -0.61802707, ...,  0.28145561,\n",
       "         0.23192245,  0.0297858 ]])"
      ]
     },
     "execution_count": 84,
     "metadata": {},
     "output_type": "execute_result"
    }
   ],
   "source": [
    "x1"
   ]
  },
  {
   "cell_type": "code",
   "execution_count": 85,
   "id": "aebbd843",
   "metadata": {},
   "outputs": [],
   "source": [
    "X_train,X_test,y_train,y_test= train_test_split(x1,y1,random_state=10,test_size=0.2)"
   ]
  },
  {
   "cell_type": "code",
   "execution_count": 86,
   "id": "032b903c",
   "metadata": {},
   "outputs": [],
   "source": [
    "model1=RandomForestClassifier(bootstrap=True,\n",
    "                             random_state=10,                                                     \n",
    "                             max_depth=49,\n",
    "                             n_estimators=800,\n",
    "                             max_features='auto',\n",
    "                             min_samples_split=3,\n",
    "                             min_samples_leaf=1)\n",
    "model1.fit(X_train,y_train)\n",
    "yhat=model1.predict(X_test)\n",
    "ytr=model1.predict(X_train)"
   ]
  },
  {
   "cell_type": "code",
   "execution_count": 87,
   "id": "e79dca19",
   "metadata": {},
   "outputs": [
    {
     "name": "stdout",
     "output_type": "stream",
     "text": [
      "Training accuracy 0.9871099050203528\n",
      "Testing accuracy 0.9638172772501131\n"
     ]
    }
   ],
   "source": [
    "print(\"Training accuracy\",accuracy_score(y_train,ytr))\n",
    "print(\"Testing accuracy\",accuracy_score(y_test,yhat))"
   ]
  },
  {
   "cell_type": "code",
   "execution_count": 88,
   "id": "320fea75",
   "metadata": {},
   "outputs": [],
   "source": [
    "import pickle"
   ]
  },
  {
   "cell_type": "code",
   "execution_count": 92,
   "id": "b529c7d0",
   "metadata": {},
   "outputs": [],
   "source": [
    "pickle.dump(pca1,open('pca1.pkl','wb'))"
   ]
  },
  {
   "cell_type": "code",
   "execution_count": 94,
   "id": "4c38900f",
   "metadata": {},
   "outputs": [],
   "source": [
    "pickle.dump(scalar ,open('scalar.pkl','wb'))"
   ]
  },
  {
   "cell_type": "code",
   "execution_count": 89,
   "id": "9fc655d3",
   "metadata": {},
   "outputs": [],
   "source": [
    "pickle.dump(model1, open('model.pkl','wb'))"
   ]
  },
  {
   "cell_type": "code",
   "execution_count": 95,
   "id": "e6929454",
   "metadata": {},
   "outputs": [],
   "source": [
    "pca_pred= pickle.load(open('pca1.pkl','rb'))"
   ]
  },
  {
   "cell_type": "code",
   "execution_count": 97,
   "id": "fa64d6a9",
   "metadata": {},
   "outputs": [],
   "source": [
    "scaler_pred= pickle.load(open('scalar.pkl','rb'))"
   ]
  },
  {
   "cell_type": "code",
   "execution_count": 98,
   "id": "321a08ef",
   "metadata": {},
   "outputs": [],
   "source": [
    "model_pred= pickle.load(open('model.pkl','rb'))"
   ]
  },
  {
   "cell_type": "code",
   "execution_count": 105,
   "id": "2417834c",
   "metadata": {},
   "outputs": [
    {
     "data": {
      "text/plain": [
       "array([-1], dtype=int64)"
      ]
     },
     "execution_count": 105,
     "metadata": {},
     "output_type": "execute_result"
    }
   ],
   "source": [
    "model_pred.predict(pca_pred.transform(scaler_pred.transform([[-1,1,1,-1,-1,-1,-1,-1,1,-1,1,-1,-1,0,1,-1,-1,-1,-1,1,1]])))"
   ]
  }
 ],
 "metadata": {
  "kernelspec": {
   "display_name": "Python 3 (ipykernel)",
   "language": "python",
   "name": "python3"
  },
  "language_info": {
   "codemirror_mode": {
    "name": "ipython",
    "version": 3
   },
   "file_extension": ".py",
   "mimetype": "text/x-python",
   "name": "python",
   "nbconvert_exporter": "python",
   "pygments_lexer": "ipython3",
   "version": "3.7.11"
  }
 },
 "nbformat": 4,
 "nbformat_minor": 5
}
