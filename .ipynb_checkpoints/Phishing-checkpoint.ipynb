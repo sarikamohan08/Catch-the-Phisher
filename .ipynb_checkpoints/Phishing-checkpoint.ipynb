{
 "cells": [
  {
   "cell_type": "code",
   "execution_count": 3,
   "metadata": {
    "colab": {},
    "colab_type": "code",
    "id": "odaJbs_azio5"
   },
   "outputs": [],
   "source": [
    "#importing necessary packages\n",
    "import pandas as pd\n",
    "import numpy as np\n",
    "from sklearn.model_selection import train_test_split,GridSearchCV,KFold,cross_val_score\n",
    "from sklearn.preprocessing import LabelEncoder\n",
    "from sklearn.ensemble import RandomForestClassifier\n",
    "from sklearn.metrics import accuracy_score,auc,classification_report,roc_curve,roc_auc_score\n",
    "from sklearn.decomposition import PCA\n",
    "from imblearn.over_sampling import SMOTE\n",
    "import matplotlib.pyplot as plt\n",
    "from matplotlib import rcParams\n",
    "import seaborn as sns\n",
    "from sklearn.tree import DecisionTreeClassifier\n",
    "from sklearn.naive_bayes import GaussianNB  \n",
    "from sklearn.neighbors import KNeighborsClassifier\n",
    "from sklearn.svm import SVC\n",
    "from sklearn.linear_model import LogisticRegression\n",
    "from scipy.stats import chi2_contingency\n",
    "\n",
    "\n"
   ]
  },
  {
   "cell_type": "code",
   "execution_count": 4,
   "metadata": {
    "colab": {},
    "colab_type": "code",
    "id": "0APLRNM3f-iv"
   },
   "outputs": [],
   "source": [
    "#Setting plot configurations\n",
    "%matplotlib inline\n",
    "rcParams['figure.figsize']= 5,4\n",
    "sns.set_style('whitegrid')"
   ]
  },
  {
   "cell_type": "code",
   "execution_count": 151,
   "metadata": {
    "colab": {
     "base_uri": "https://localhost:8080/",
     "height": 232
    },
    "colab_type": "code",
    "id": "tUeosLyIqN7K",
    "outputId": "98763c57-1312-4e23-a875-e6c1a494aa7f"
   },
   "outputs": [
    {
     "name": "stdout",
     "output_type": "stream",
     "text": [
      "(2456, 31)\n"
     ]
    },
    {
     "data": {
      "text/html": [
       "<div>\n",
       "<style scoped>\n",
       "    .dataframe tbody tr th:only-of-type {\n",
       "        vertical-align: middle;\n",
       "    }\n",
       "\n",
       "    .dataframe tbody tr th {\n",
       "        vertical-align: top;\n",
       "    }\n",
       "\n",
       "    .dataframe thead th {\n",
       "        text-align: right;\n",
       "    }\n",
       "</style>\n",
       "<table border=\"1\" class=\"dataframe\">\n",
       "  <thead>\n",
       "    <tr style=\"text-align: right;\">\n",
       "      <th></th>\n",
       "      <th>having_IP_Address</th>\n",
       "      <th>URL_Length</th>\n",
       "      <th>Shortining_Service</th>\n",
       "      <th>having_At_Symbol</th>\n",
       "      <th>double_slash_redirecting</th>\n",
       "      <th>Prefix_Suffix</th>\n",
       "      <th>having_Sub_Domain</th>\n",
       "      <th>SSLfinal_State</th>\n",
       "      <th>Domain_registeration_length</th>\n",
       "      <th>Favicon</th>\n",
       "      <th>port</th>\n",
       "      <th>HTTPS_token</th>\n",
       "      <th>Request_URL</th>\n",
       "      <th>URL_of_Anchor</th>\n",
       "      <th>Links_in_tags</th>\n",
       "      <th>SFH</th>\n",
       "      <th>Submitting_to_email</th>\n",
       "      <th>Abnormal_URL</th>\n",
       "      <th>Redirect</th>\n",
       "      <th>on_mouseover</th>\n",
       "      <th>RightClick</th>\n",
       "      <th>popUpWidnow</th>\n",
       "      <th>Iframe</th>\n",
       "      <th>age_of_domain</th>\n",
       "      <th>DNSRecord</th>\n",
       "      <th>web_traffic</th>\n",
       "      <th>Page_Rank</th>\n",
       "      <th>Google_Index</th>\n",
       "      <th>Links_pointing_to_page</th>\n",
       "      <th>Statistical_report</th>\n",
       "      <th>Result</th>\n",
       "    </tr>\n",
       "  </thead>\n",
       "  <tbody>\n",
       "    <tr>\n",
       "      <th>0</th>\n",
       "      <td>1</td>\n",
       "      <td>1</td>\n",
       "      <td>0</td>\n",
       "      <td>0</td>\n",
       "      <td>1</td>\n",
       "      <td>-1</td>\n",
       "      <td>-1</td>\n",
       "      <td>-1</td>\n",
       "      <td>0</td>\n",
       "      <td>0</td>\n",
       "      <td>0</td>\n",
       "      <td>1</td>\n",
       "      <td>1</td>\n",
       "      <td>-1</td>\n",
       "      <td>1</td>\n",
       "      <td>-1</td>\n",
       "      <td>1</td>\n",
       "      <td>1</td>\n",
       "      <td>0</td>\n",
       "      <td>0</td>\n",
       "      <td>0</td>\n",
       "      <td>0</td>\n",
       "      <td>0</td>\n",
       "      <td>-1</td>\n",
       "      <td>1</td>\n",
       "      <td>-1</td>\n",
       "      <td>-1</td>\n",
       "      <td>0</td>\n",
       "      <td>1</td>\n",
       "      <td>1</td>\n",
       "      <td>1</td>\n",
       "    </tr>\n",
       "    <tr>\n",
       "      <th>1</th>\n",
       "      <td>0</td>\n",
       "      <td>1</td>\n",
       "      <td>0</td>\n",
       "      <td>0</td>\n",
       "      <td>0</td>\n",
       "      <td>-1</td>\n",
       "      <td>0</td>\n",
       "      <td>1</td>\n",
       "      <td>0</td>\n",
       "      <td>0</td>\n",
       "      <td>0</td>\n",
       "      <td>1</td>\n",
       "      <td>1</td>\n",
       "      <td>0</td>\n",
       "      <td>-1</td>\n",
       "      <td>-1</td>\n",
       "      <td>0</td>\n",
       "      <td>0</td>\n",
       "      <td>0</td>\n",
       "      <td>0</td>\n",
       "      <td>0</td>\n",
       "      <td>0</td>\n",
       "      <td>0</td>\n",
       "      <td>-1</td>\n",
       "      <td>1</td>\n",
       "      <td>0</td>\n",
       "      <td>-1</td>\n",
       "      <td>0</td>\n",
       "      <td>1</td>\n",
       "      <td>0</td>\n",
       "      <td>1</td>\n",
       "    </tr>\n",
       "    <tr>\n",
       "      <th>2</th>\n",
       "      <td>0</td>\n",
       "      <td>0</td>\n",
       "      <td>0</td>\n",
       "      <td>0</td>\n",
       "      <td>0</td>\n",
       "      <td>-1</td>\n",
       "      <td>-1</td>\n",
       "      <td>-1</td>\n",
       "      <td>0</td>\n",
       "      <td>0</td>\n",
       "      <td>0</td>\n",
       "      <td>1</td>\n",
       "      <td>1</td>\n",
       "      <td>0</td>\n",
       "      <td>-1</td>\n",
       "      <td>-1</td>\n",
       "      <td>1</td>\n",
       "      <td>1</td>\n",
       "      <td>0</td>\n",
       "      <td>0</td>\n",
       "      <td>0</td>\n",
       "      <td>0</td>\n",
       "      <td>0</td>\n",
       "      <td>0</td>\n",
       "      <td>1</td>\n",
       "      <td>1</td>\n",
       "      <td>-1</td>\n",
       "      <td>0</td>\n",
       "      <td>0</td>\n",
       "      <td>1</td>\n",
       "      <td>1</td>\n",
       "    </tr>\n",
       "    <tr>\n",
       "      <th>3</th>\n",
       "      <td>0</td>\n",
       "      <td>0</td>\n",
       "      <td>0</td>\n",
       "      <td>0</td>\n",
       "      <td>0</td>\n",
       "      <td>-1</td>\n",
       "      <td>-1</td>\n",
       "      <td>-1</td>\n",
       "      <td>1</td>\n",
       "      <td>0</td>\n",
       "      <td>0</td>\n",
       "      <td>1</td>\n",
       "      <td>-1</td>\n",
       "      <td>0</td>\n",
       "      <td>0</td>\n",
       "      <td>-1</td>\n",
       "      <td>0</td>\n",
       "      <td>0</td>\n",
       "      <td>0</td>\n",
       "      <td>0</td>\n",
       "      <td>0</td>\n",
       "      <td>0</td>\n",
       "      <td>0</td>\n",
       "      <td>-1</td>\n",
       "      <td>1</td>\n",
       "      <td>1</td>\n",
       "      <td>-1</td>\n",
       "      <td>0</td>\n",
       "      <td>-1</td>\n",
       "      <td>0</td>\n",
       "      <td>1</td>\n",
       "    </tr>\n",
       "    <tr>\n",
       "      <th>4</th>\n",
       "      <td>0</td>\n",
       "      <td>0</td>\n",
       "      <td>1</td>\n",
       "      <td>0</td>\n",
       "      <td>0</td>\n",
       "      <td>-1</td>\n",
       "      <td>1</td>\n",
       "      <td>1</td>\n",
       "      <td>0</td>\n",
       "      <td>0</td>\n",
       "      <td>0</td>\n",
       "      <td>0</td>\n",
       "      <td>1</td>\n",
       "      <td>0</td>\n",
       "      <td>0</td>\n",
       "      <td>-1</td>\n",
       "      <td>0</td>\n",
       "      <td>0</td>\n",
       "      <td>0</td>\n",
       "      <td>1</td>\n",
       "      <td>0</td>\n",
       "      <td>1</td>\n",
       "      <td>0</td>\n",
       "      <td>-1</td>\n",
       "      <td>1</td>\n",
       "      <td>0</td>\n",
       "      <td>-1</td>\n",
       "      <td>0</td>\n",
       "      <td>1</td>\n",
       "      <td>0</td>\n",
       "      <td>0</td>\n",
       "    </tr>\n",
       "  </tbody>\n",
       "</table>\n",
       "</div>"
      ],
      "text/plain": [
       "   having_IP_Address  URL_Length  ...  Statistical_report  Result\n",
       "0                  1           1  ...                   1       1\n",
       "1                  0           1  ...                   0       1\n",
       "2                  0           0  ...                   1       1\n",
       "3                  0           0  ...                   0       1\n",
       "4                  0           0  ...                   0       0\n",
       "\n",
       "[5 rows x 31 columns]"
      ]
     },
     "execution_count": 151,
     "metadata": {
      "tags": []
     },
     "output_type": "execute_result"
    }
   ],
   "source": [
    "#loading the file\n",
    "df= pd.read_csv('Phishing Data - Phishing Data.csv')\n",
    "print(df.shape)\n",
    "df.head()\n"
   ]
  },
  {
   "cell_type": "code",
   "execution_count": 152,
   "metadata": {
    "colab": {
     "base_uri": "https://localhost:8080/",
     "height": 1000
    },
    "colab_type": "code",
    "id": "nWzvKVpYz13Y",
    "outputId": "50840e5d-fcf3-44fe-fb46-24d3ad854c89"
   },
   "outputs": [
    {
     "name": "stdout",
     "output_type": "stream",
     "text": [
      "having_IP_Address              0\n",
      "URL_Length                     0\n",
      "Shortining_Service             0\n",
      "having_At_Symbol               0\n",
      "double_slash_redirecting       0\n",
      "Prefix_Suffix                  0\n",
      "having_Sub_Domain              0\n",
      "SSLfinal_State                 0\n",
      "Domain_registeration_length    0\n",
      "Favicon                        0\n",
      "port                           0\n",
      "HTTPS_token                    0\n",
      "Request_URL                    0\n",
      "URL_of_Anchor                  0\n",
      "Links_in_tags                  0\n",
      "SFH                            0\n",
      "Submitting_to_email            0\n",
      "Abnormal_URL                   0\n",
      "Redirect                       0\n",
      "on_mouseover                   0\n",
      "RightClick                     0\n",
      "popUpWidnow                    0\n",
      "Iframe                         0\n",
      "age_of_domain                  0\n",
      "DNSRecord                      0\n",
      "web_traffic                    0\n",
      "Page_Rank                      0\n",
      "Google_Index                   0\n",
      "Links_pointing_to_page         0\n",
      "Statistical_report             0\n",
      "Result                         0\n",
      "dtype: int64\n",
      "<class 'pandas.core.frame.DataFrame'>\n",
      "RangeIndex: 2456 entries, 0 to 2455\n",
      "Data columns (total 31 columns):\n",
      " #   Column                       Non-Null Count  Dtype\n",
      "---  ------                       --------------  -----\n",
      " 0   having_IP_Address            2456 non-null   int64\n",
      " 1   URL_Length                   2456 non-null   int64\n",
      " 2   Shortining_Service           2456 non-null   int64\n",
      " 3   having_At_Symbol             2456 non-null   int64\n",
      " 4   double_slash_redirecting     2456 non-null   int64\n",
      " 5   Prefix_Suffix                2456 non-null   int64\n",
      " 6   having_Sub_Domain            2456 non-null   int64\n",
      " 7   SSLfinal_State               2456 non-null   int64\n",
      " 8   Domain_registeration_length  2456 non-null   int64\n",
      " 9   Favicon                      2456 non-null   int64\n",
      " 10  port                         2456 non-null   int64\n",
      " 11  HTTPS_token                  2456 non-null   int64\n",
      " 12  Request_URL                  2456 non-null   int64\n",
      " 13  URL_of_Anchor                2456 non-null   int64\n",
      " 14  Links_in_tags                2456 non-null   int64\n",
      " 15  SFH                          2456 non-null   int64\n",
      " 16  Submitting_to_email          2456 non-null   int64\n",
      " 17  Abnormal_URL                 2456 non-null   int64\n",
      " 18  Redirect                     2456 non-null   int64\n",
      " 19  on_mouseover                 2456 non-null   int64\n",
      " 20  RightClick                   2456 non-null   int64\n",
      " 21  popUpWidnow                  2456 non-null   int64\n",
      " 22  Iframe                       2456 non-null   int64\n",
      " 23  age_of_domain                2456 non-null   int64\n",
      " 24  DNSRecord                    2456 non-null   int64\n",
      " 25  web_traffic                  2456 non-null   int64\n",
      " 26  Page_Rank                    2456 non-null   int64\n",
      " 27  Google_Index                 2456 non-null   int64\n",
      " 28  Links_pointing_to_page       2456 non-null   int64\n",
      " 29  Statistical_report           2456 non-null   int64\n",
      " 30  Result                       2456 non-null   int64\n",
      "dtypes: int64(31)\n",
      "memory usage: 594.9 KB\n",
      "None\n"
     ]
    }
   ],
   "source": [
    "#performing basic checks\n",
    "print(df.isnull().sum())\n",
    "print(df.info())\n"
   ]
  },
  {
   "cell_type": "code",
   "execution_count": 153,
   "metadata": {
    "colab": {
     "base_uri": "https://localhost:8080/",
     "height": 346
    },
    "colab_type": "code",
    "id": "Xik_ix6R5L1O",
    "outputId": "2bf69ae6-5ebf-49b7-8b05-6288510c4720"
   },
   "outputs": [
    {
     "name": "stdout",
     "output_type": "stream",
     "text": [
      "0    1362\n",
      "1    1094\n",
      "Name: Result, dtype: int64\n"
     ]
    },
    {
     "data": {
      "image/png": "[encoded data removed]",
      "text/plain": [
       "<Figure size 360x288 with 1 Axes>"
      ]
     },
     "metadata": {
      "tags": []
     },
     "output_type": "display_data"
    }
   ],
   "source": [
    "print(df.Result.value_counts())\n",
    "sns.countplot(df.Result)\n",
    "plt.title(\"Result Count\")\n",
    "plt.show()"
   ]
  },
  {
   "cell_type": "markdown",
   "metadata": {
    "colab_type": "text",
    "id": "QpkpXGto0uCK"
   },
   "source": [
    "No null values detected. However dtype of columns are  continous. There is an imbalance between the majority and minoriy classes"
   ]
  },
  {
   "cell_type": "markdown",
   "metadata": {
    "colab_type": "text",
    "id": "9Vl5vskU1asF"
   },
   "source": [
    "**EDA**"
   ]
  },
  {
   "cell_type": "code",
   "execution_count": 154,
   "metadata": {
    "colab": {
     "base_uri": "https://localhost:8080/",
     "height": 661
    },
    "colab_type": "code",
    "id": "AwhOA7Eu1CKz",
    "outputId": "cb3f58d0-6bce-4d48-bfb8-5d4e8a9514b7"
   },
   "outputs": [
    {
     "data": {
      "image/png": "[encoded data removed]",
      "text/plain": [
       "<Figure size 1080x792 with 15 Axes>"
      ]
     },
     "metadata": {
      "tags": []
     },
     "output_type": "display_data"
    }
   ],
   "source": [
    "#Countplots for first 15 features\n",
    "rcParams['figure.figsize'] = 15,11 #rcParameters run configuration parameters\n",
    "c_palette = ['tab:green', 'tab:red']\n",
    "\n",
    "f,ax=plt.subplots(3,5)\n",
    "sns.countplot('having_IP_Address',hue='Result',data=df,ax=ax[0,0],palette=c_palette)\n",
    "sns.countplot('URL_Length',hue='Result',data=df,ax=ax[0,1],palette=c_palette)\n",
    "sns.countplot('Shortining_Service',hue='Result',data=df,ax=ax[0,2],palette=c_palette)\n",
    "sns.countplot('having_At_Symbol',hue='Result',data=df,ax=ax[0,3],palette=c_palette)\n",
    "sns.countplot('double_slash_redirecting',hue='Result',data=df,ax=ax[0,4],palette=c_palette)\n",
    "sns.countplot('Prefix_Suffix',hue='Result',data=df,ax=ax[1,0],palette=c_palette)\n",
    "sns.countplot('having_Sub_Domain',hue='Result',data=df,ax=ax[1,1],palette=c_palette)\n",
    "sns.countplot('SSLfinal_State',hue='Result',data=df,ax=ax[1,2],palette=c_palette)\n",
    "sns.countplot('Domain_registeration_length',hue='Result',data=df,ax=ax[1,3],palette=c_palette)\n",
    "sns.countplot('Favicon',hue='Result',data=df,ax=ax[1,4],palette=c_palette)\n",
    "sns.countplot('port',hue='Result',data=df,ax=ax[2,0],palette=c_palette)\n",
    "sns.countplot('HTTPS_token',hue='Result',data=df,ax=ax[2,1],palette=c_palette)\n",
    "sns.countplot('Request_URL',hue='Result',data=df,ax=ax[2,2],palette=c_palette)\n",
    "sns.countplot('URL_of_Anchor',hue='Result',data=df,ax=ax[2,3],palette=c_palette)\n",
    "sns.countplot('Links_in_tags',hue='Result',data=df,ax=ax[2,4],palette=c_palette)\n",
    "plt.subplots_adjust(wspace=0.5,hspace=0.5)\n",
    "\n",
    "plt.show()"
   ]
  },
  {
   "cell_type": "code",
   "execution_count": 155,
   "metadata": {
    "colab": {
     "base_uri": "https://localhost:8080/",
     "height": 664
    },
    "colab_type": "code",
    "id": "IlDSMtzp1IUv",
    "outputId": "0e79cf58-6f2d-4b70-8790-d69c1cdcb5ce"
   },
   "outputs": [
    {
     "data": {
      "image/png": "[encoded data removed]",
      "text/plain": [
       "<Figure size 1080x792 with 15 Axes>"
      ]
     },
     "metadata": {
      "tags": []
     },
     "output_type": "display_data"
    }
   ],
   "source": [
    "#countplot for rest of the features\n",
    "f,ax=plt.subplots(3,5)\n",
    "sns.countplot('SFH',hue='Result',data=df,ax=ax[0,0],palette=c_palette)\n",
    "sns.countplot('Submitting_to_email',hue='Result',data=df,ax=ax[0,1],palette=c_palette)\n",
    "sns.countplot('Abnormal_URL',hue='Result',data=df,ax=ax[0,2],palette=c_palette)\n",
    "sns.countplot('Redirect',hue='Result',data=df,ax=ax[0,3],palette=c_palette)\n",
    "sns.countplot('on_mouseover',hue='Result',data=df,ax=ax[0,4],palette=c_palette)\n",
    "sns.countplot('RightClick',hue='Result',data=df,ax=ax[1,0],palette=c_palette)\n",
    "sns.countplot('popUpWidnow',hue='Result',data=df,ax=ax[1,1],palette=c_palette)\n",
    "sns.countplot('Iframe',hue='Result',data=df,ax=ax[1,2],palette=c_palette)\n",
    "sns.countplot('age_of_domain',hue='Result',data=df,ax=ax[1,3],palette=c_palette)\n",
    "sns.countplot('DNSRecord',hue='Result',data=df,ax=ax[1,4],palette=c_palette)\n",
    "sns.countplot('web_traffic',hue='Result',data=df,ax=ax[2,0],palette=c_palette)\n",
    "sns.countplot('Google_Index',hue='Result',data=df,ax=ax[2,1],palette=c_palette)\n",
    "sns.countplot('Links_pointing_to_page',hue='Result',data=df,ax=ax[2,2],palette=c_palette)\n",
    "sns.countplot('Statistical_report',hue='Result',data=df,ax=ax[2,3],palette=c_palette)\n",
    "\n",
    "plt.subplots_adjust(wspace=0.5,hspace=0.5)\n",
    "\n",
    "plt.show()"
   ]
  },
  {
   "cell_type": "markdown",
   "metadata": {
    "colab_type": "text",
    "id": "AigTW3VW2QmF"
   },
   "source": [
    "**Chi-Squared test**\n"
   ]
  },
  {
   "cell_type": "code",
   "execution_count": 156,
   "metadata": {
    "colab": {},
    "colab_type": "code",
    "id": "kWw0VZ4j1IKh"
   },
   "outputs": [],
   "source": [
    "\n",
    "df1=df.apply(LabelEncoder().fit_transform)#to remove negative values\n"
   ]
  },
  {
   "cell_type": "code",
   "execution_count": 157,
   "metadata": {
    "colab": {
     "base_uri": "https://localhost:8080/",
     "height": 538
    },
    "colab_type": "code",
    "id": "kqjVPfmE1IBI",
    "outputId": "c856759e-ae27-44ba-e479-60588fced509"
   },
   "outputs": [
    {
     "name": "stdout",
     "output_type": "stream",
     "text": [
      "                                                          0\n",
      "having_IP_Address                    Reject Null Hypothesis\n",
      "URL_Length                           Reject Null Hypothesis\n",
      "Shortining_Service                   Reject Null Hypothesis\n",
      "having_At_Symbol             Fail to Reject Null Hypothesis\n",
      "double_slash_redirecting             Reject Null Hypothesis\n",
      "Prefix_Suffix                        Reject Null Hypothesis\n",
      "having_Sub_Domain                    Reject Null Hypothesis\n",
      "SSLfinal_State                       Reject Null Hypothesis\n",
      "Domain_registeration_length          Reject Null Hypothesis\n",
      "Favicon                      Fail to Reject Null Hypothesis\n",
      "port                         Fail to Reject Null Hypothesis\n",
      "HTTPS_token                  Fail to Reject Null Hypothesis\n",
      "Request_URL                          Reject Null Hypothesis\n",
      "URL_of_Anchor                        Reject Null Hypothesis\n",
      "Links_in_tags                        Reject Null Hypothesis\n",
      "SFH                                  Reject Null Hypothesis\n",
      "Submitting_to_email          Fail to Reject Null Hypothesis\n",
      "Abnormal_URL                         Reject Null Hypothesis\n",
      "Redirect                             Reject Null Hypothesis\n",
      "on_mouseover                         Reject Null Hypothesis\n",
      "RightClick                   Fail to Reject Null Hypothesis\n",
      "popUpWidnow                  Fail to Reject Null Hypothesis\n",
      "Iframe                       Fail to Reject Null Hypothesis\n",
      "age_of_domain                        Reject Null Hypothesis\n",
      "DNSRecord                            Reject Null Hypothesis\n",
      "web_traffic                          Reject Null Hypothesis\n",
      "Page_Rank                            Reject Null Hypothesis\n",
      "Google_Index                         Reject Null Hypothesis\n",
      "Links_pointing_to_page               Reject Null Hypothesis\n",
      "Statistical_report           Fail to Reject Null Hypothesis\n"
     ]
    }
   ],
   "source": [
    "# testing the relationship between Result\n",
    "\n",
    "cols=df1.drop('Result',axis=1)\n",
    "chi2_check = []\n",
    "for i in cols:\n",
    "    if chi2_contingency(pd.crosstab(df['Result'], df[i]))[1] < 0.05:\n",
    "        chi2_check.append('Reject Null Hypothesis')\n",
    "    else:\n",
    "        chi2_check.append('Fail to Reject Null Hypothesis')\n",
    "res = pd.DataFrame(chi2_check,index=cols.columns)\n",
    "\n",
    "print(res)"
   ]
  },
  {
   "cell_type": "code",
   "execution_count": 158,
   "metadata": {
    "colab": {},
    "colab_type": "code",
    "id": "_YECmZmSxArJ"
   },
   "outputs": [],
   "source": [
    "#drop non related features\n",
    "df.drop(columns=['Statistical_report','Iframe','popUpWidnow',\n",
    "         'on_mouseover','Submitting_to_email',\n",
    "         'HTTPS_token','port','Favicon','having_At_Symbol'],\n",
    "        axis=1,inplace=True)"
   ]
  },
  {
   "cell_type": "code",
   "execution_count": 184,
   "metadata": {
    "colab": {},
    "colab_type": "code",
    "id": "9z9kNszt0u6w"
   },
   "outputs": [],
   "source": [
    "X= df.iloc[:,:-1].astype(object)\n",
    "y=df['Result']"
   ]
  },
  {
   "cell_type": "code",
   "execution_count": 160,
   "metadata": {
    "colab": {
     "base_uri": "https://localhost:8080/",
     "height": 278
    },
    "colab_type": "code",
    "id": "6QvK9Pre1Hpz",
    "outputId": "fee29efe-1056-4c3d-f89f-5c8266906086"
   },
   "outputs": [
    {
     "name": "stderr",
     "output_type": "stream",
     "text": [
      "/usr/local/lib/python3.6/dist-packages/sklearn/model_selection/_split.py:296: FutureWarning: Setting a random_state has no effect since shuffle is False. This will raise an error in 0.24. You should leave random_state to its default (None), or set shuffle=True.\n",
      "  FutureWarning\n"
     ]
    },
    {
     "data": {
      "text/html": [
       "<div>\n",
       "<style scoped>\n",
       "    .dataframe tbody tr th:only-of-type {\n",
       "        vertical-align: middle;\n",
       "    }\n",
       "\n",
       "    .dataframe tbody tr th {\n",
       "        vertical-align: top;\n",
       "    }\n",
       "\n",
       "    .dataframe thead th {\n",
       "        text-align: right;\n",
       "    }\n",
       "</style>\n",
       "<table border=\"1\" class=\"dataframe\">\n",
       "  <thead>\n",
       "    <tr style=\"text-align: right;\">\n",
       "      <th></th>\n",
       "      <th>CV Mean</th>\n",
       "      <th>Std</th>\n",
       "    </tr>\n",
       "  </thead>\n",
       "  <tbody>\n",
       "    <tr>\n",
       "      <th>Svm</th>\n",
       "      <td>0.956838</td>\n",
       "      <td>0.010496</td>\n",
       "    </tr>\n",
       "    <tr>\n",
       "      <th>Logistic Regression</th>\n",
       "      <td>0.940556</td>\n",
       "      <td>0.012359</td>\n",
       "    </tr>\n",
       "    <tr>\n",
       "      <th>KNN</th>\n",
       "      <td>0.977612</td>\n",
       "      <td>0.007091</td>\n",
       "    </tr>\n",
       "    <tr>\n",
       "      <th>Decision Tree</th>\n",
       "      <td>0.971493</td>\n",
       "      <td>0.009306</td>\n",
       "    </tr>\n",
       "    <tr>\n",
       "      <th>Naive Bayes</th>\n",
       "      <td>0.917760</td>\n",
       "      <td>0.019315</td>\n",
       "    </tr>\n",
       "    <tr>\n",
       "      <th>Random Forest</th>\n",
       "      <td>0.974344</td>\n",
       "      <td>0.007311</td>\n",
       "    </tr>\n",
       "  </tbody>\n",
       "</table>\n",
       "</div>"
      ],
      "text/plain": [
       "                      CV Mean       Std\n",
       "Svm                  0.956838  0.010496\n",
       "Logistic Regression  0.940556  0.012359\n",
       "KNN                  0.977612  0.007091\n",
       "Decision Tree        0.971493  0.009306\n",
       "Naive Bayes          0.917760  0.019315\n",
       "Random Forest        0.974344  0.007311"
      ]
     },
     "execution_count": 160,
     "metadata": {
      "tags": []
     },
     "output_type": "execute_result"
    }
   ],
   "source": [
    "\n",
    "kfold = KFold(n_splits=10, random_state=10) # k=10, split the data into 10 equal parts\n",
    "xyz=[]\n",
    "accuracy=[]\n",
    "std=[]\n",
    "classifiers=['Svm','Logistic Regression','KNN','Decision Tree','Naive Bayes','Random Forest']\n",
    "models=[SVC(kernel='rbf'),LogisticRegression(),KNeighborsClassifier(n_neighbors=1),DecisionTreeClassifier(),GaussianNB(),RandomForestClassifier(n_estimators=100)]\n",
    "for i in models:\n",
    "    model = i\n",
    "    cv_result = cross_val_score(model,X,y, cv = kfold,scoring = \"accuracy\")\n",
    "    cv_result=cv_result\n",
    "    xyz.append(cv_result.mean())\n",
    "    std.append(cv_result.std())\n",
    "    accuracy.append(cv_result)\n",
    "new_models_dataframe2=pd.DataFrame({'CV Mean':xyz,'Std':std},index=classifiers)       \n",
    "new_models_dataframe2"
   ]
  },
  {
   "cell_type": "code",
   "execution_count": 161,
   "metadata": {
    "colab": {
     "base_uri": "https://localhost:8080/",
     "height": 390
    },
    "colab_type": "code",
    "id": "PbRhaZ8A1Hf8",
    "outputId": "439dc242-c6a0-4d84-e59d-6fa25b87ff21"
   },
   "outputs": [
    {
     "data": {
      "image/png": "[encoded data removed]",
      "text/plain": [
       "<Figure size 864x432 with 1 Axes>"
      ]
     },
     "metadata": {
      "tags": []
     },
     "output_type": "display_data"
    }
   ],
   "source": [
    "plt.subplots(figsize=(12,6))\n",
    "box=pd.DataFrame(accuracy,index=[classifiers])\n",
    "box.T.boxplot()\n",
    "plt.title(\"Comparsion of Models\")\n",
    "plt.show()"
   ]
  },
  {
   "cell_type": "code",
   "execution_count": 185,
   "metadata": {
    "colab": {
     "base_uri": "https://localhost:8080/",
     "height": 215
    },
    "colab_type": "code",
    "id": "H0LPvWC10vNZ",
    "outputId": "505b3b61-d58a-4659-8186-397020786bc0"
   },
   "outputs": [
    {
     "data": {
      "text/html": [
       "<div>\n",
       "<style scoped>\n",
       "    .dataframe tbody tr th:only-of-type {\n",
       "        vertical-align: middle;\n",
       "    }\n",
       "\n",
       "    .dataframe tbody tr th {\n",
       "        vertical-align: top;\n",
       "    }\n",
       "\n",
       "    .dataframe thead th {\n",
       "        text-align: right;\n",
       "    }\n",
       "</style>\n",
       "<table border=\"1\" class=\"dataframe\">\n",
       "  <thead>\n",
       "    <tr style=\"text-align: right;\">\n",
       "      <th></th>\n",
       "      <th>0</th>\n",
       "      <th>1</th>\n",
       "      <th>2</th>\n",
       "      <th>3</th>\n",
       "      <th>4</th>\n",
       "      <th>5</th>\n",
       "      <th>6</th>\n",
       "      <th>7</th>\n",
       "      <th>8</th>\n",
       "      <th>9</th>\n",
       "      <th>10</th>\n",
       "      <th>11</th>\n",
       "      <th>12</th>\n",
       "      <th>13</th>\n",
       "      <th>14</th>\n",
       "      <th>15</th>\n",
       "      <th>16</th>\n",
       "      <th>17</th>\n",
       "      <th>18</th>\n",
       "      <th>19</th>\n",
       "      <th>20</th>\n",
       "    </tr>\n",
       "  </thead>\n",
       "  <tbody>\n",
       "    <tr>\n",
       "      <th>0</th>\n",
       "      <td>-1.193023</td>\n",
       "      <td>2.361358</td>\n",
       "      <td>0.511172</td>\n",
       "      <td>-0.069328</td>\n",
       "      <td>1.566814</td>\n",
       "      <td>0.723336</td>\n",
       "      <td>0.306751</td>\n",
       "      <td>0.170253</td>\n",
       "      <td>0.221613</td>\n",
       "      <td>-0.512360</td>\n",
       "      <td>-0.216288</td>\n",
       "      <td>-0.014533</td>\n",
       "      <td>0.654546</td>\n",
       "      <td>-0.035538</td>\n",
       "      <td>-0.185111</td>\n",
       "      <td>0.264107</td>\n",
       "      <td>0.798158</td>\n",
       "      <td>0.874653</td>\n",
       "      <td>0.621800</td>\n",
       "      <td>0.886055</td>\n",
       "      <td>-0.598011</td>\n",
       "    </tr>\n",
       "    <tr>\n",
       "      <th>1</th>\n",
       "      <td>0.165399</td>\n",
       "      <td>1.178783</td>\n",
       "      <td>-0.206412</td>\n",
       "      <td>0.244262</td>\n",
       "      <td>-0.556902</td>\n",
       "      <td>-0.845199</td>\n",
       "      <td>-0.627890</td>\n",
       "      <td>0.514891</td>\n",
       "      <td>0.714667</td>\n",
       "      <td>-1.104051</td>\n",
       "      <td>-0.740902</td>\n",
       "      <td>-0.126883</td>\n",
       "      <td>0.232535</td>\n",
       "      <td>0.033337</td>\n",
       "      <td>-0.168143</td>\n",
       "      <td>0.159332</td>\n",
       "      <td>0.435989</td>\n",
       "      <td>1.132470</td>\n",
       "      <td>0.624755</td>\n",
       "      <td>0.037469</td>\n",
       "      <td>-0.165282</td>\n",
       "    </tr>\n",
       "    <tr>\n",
       "      <th>2</th>\n",
       "      <td>-0.425989</td>\n",
       "      <td>1.201908</td>\n",
       "      <td>-0.687167</td>\n",
       "      <td>-0.326109</td>\n",
       "      <td>-0.006200</td>\n",
       "      <td>-1.088439</td>\n",
       "      <td>0.225365</td>\n",
       "      <td>-0.007403</td>\n",
       "      <td>-1.127795</td>\n",
       "      <td>0.232361</td>\n",
       "      <td>0.082752</td>\n",
       "      <td>0.230333</td>\n",
       "      <td>0.406417</td>\n",
       "      <td>0.645449</td>\n",
       "      <td>-0.315534</td>\n",
       "      <td>0.378715</td>\n",
       "      <td>0.929472</td>\n",
       "      <td>0.171894</td>\n",
       "      <td>0.321869</td>\n",
       "      <td>-0.019532</td>\n",
       "      <td>-0.079570</td>\n",
       "    </tr>\n",
       "    <tr>\n",
       "      <th>3</th>\n",
       "      <td>-1.825714</td>\n",
       "      <td>0.276139</td>\n",
       "      <td>-0.449539</td>\n",
       "      <td>1.056598</td>\n",
       "      <td>-0.195454</td>\n",
       "      <td>0.052252</td>\n",
       "      <td>-0.565293</td>\n",
       "      <td>-0.947054</td>\n",
       "      <td>-1.189912</td>\n",
       "      <td>0.109648</td>\n",
       "      <td>0.304346</td>\n",
       "      <td>0.289906</td>\n",
       "      <td>0.066024</td>\n",
       "      <td>1.213258</td>\n",
       "      <td>-0.295158</td>\n",
       "      <td>0.093986</td>\n",
       "      <td>0.117206</td>\n",
       "      <td>0.509902</td>\n",
       "      <td>0.278948</td>\n",
       "      <td>-0.047151</td>\n",
       "      <td>-0.127893</td>\n",
       "    </tr>\n",
       "    <tr>\n",
       "      <th>4</th>\n",
       "      <td>0.343722</td>\n",
       "      <td>0.519720</td>\n",
       "      <td>-0.060638</td>\n",
       "      <td>-0.297537</td>\n",
       "      <td>0.302463</td>\n",
       "      <td>-0.042665</td>\n",
       "      <td>-1.343933</td>\n",
       "      <td>0.727906</td>\n",
       "      <td>0.709180</td>\n",
       "      <td>-1.131467</td>\n",
       "      <td>-0.681941</td>\n",
       "      <td>-0.091575</td>\n",
       "      <td>0.209628</td>\n",
       "      <td>0.010785</td>\n",
       "      <td>-0.122183</td>\n",
       "      <td>0.009956</td>\n",
       "      <td>0.165006</td>\n",
       "      <td>0.962508</td>\n",
       "      <td>-0.196488</td>\n",
       "      <td>-0.290420</td>\n",
       "      <td>0.437334</td>\n",
       "    </tr>\n",
       "  </tbody>\n",
       "</table>\n",
       "</div>"
      ],
      "text/plain": [
       "         0         1         2   ...        18        19        20\n",
       "0 -1.193023  2.361358  0.511172  ...  0.621800  0.886055 -0.598011\n",
       "1  0.165399  1.178783 -0.206412  ...  0.624755  0.037469 -0.165282\n",
       "2 -0.425989  1.201908 -0.687167  ...  0.321869 -0.019532 -0.079570\n",
       "3 -1.825714  0.276139 -0.449539  ...  0.278948 -0.047151 -0.127893\n",
       "4  0.343722  0.519720 -0.060638  ... -0.196488 -0.290420  0.437334\n",
       "\n",
       "[5 rows x 21 columns]"
      ]
     },
     "execution_count": 185,
     "metadata": {
      "tags": []
     },
     "output_type": "execute_result"
    }
   ],
   "source": [
    "pca = PCA()\n",
    "X = pd.DataFrame(pca.fit_transform(X))\n",
    "X.head()"
   ]
  },
  {
   "cell_type": "code",
   "execution_count": 186,
   "metadata": {
    "colab": {},
    "colab_type": "code",
    "id": "89v5llKi0vQb"
   },
   "outputs": [],
   "source": [
    "X=X.iloc[:,:-8]#Dropped the last 8 columns"
   ]
  },
  {
   "cell_type": "code",
   "execution_count": 187,
   "metadata": {
    "colab": {},
    "colab_type": "code",
    "id": "Dcr0b89L0u95"
   },
   "outputs": [],
   "source": [
    "X_train,X_test,y_train,y_test= train_test_split(X,y,random_state=10,test_size=0.2)"
   ]
  },
  {
   "cell_type": "code",
   "execution_count": 188,
   "metadata": {
    "colab": {
     "base_uri": "https://localhost:8080/",
     "height": 70
    },
    "colab_type": "code",
    "id": "q5dcz1MG8gzB",
    "outputId": "2d223f9e-8e0b-4dd5-c454-44ebe07e5439"
   },
   "outputs": [
    {
     "name": "stderr",
     "output_type": "stream",
     "text": [
      "/usr/local/lib/python3.6/dist-packages/sklearn/utils/deprecation.py:87: FutureWarning: Function safe_indexing is deprecated; safe_indexing is deprecated in version 0.22 and will be removed in version 0.24.\n",
      "  warnings.warn(msg, category=FutureWarning)\n"
     ]
    }
   ],
   "source": [
    "#balance training data\n",
    "smote=SMOTE(random_state=10)\n",
    "X_train_smote,y_train_smote = smote.fit_sample(X_train.astype('float'),y_train)\n",
    "X_train_smote=pd.DataFrame(X_train_smote,columns=X_train.columns)"
   ]
  },
  {
   "cell_type": "code",
   "execution_count": 133,
   "metadata": {
    "colab": {
     "base_uri": "https://localhost:8080/",
     "height": 958
    },
    "colab_type": "code",
    "id": "ySrjRMNVF1fM",
    "outputId": "0466c083-a03f-47d3-e2f6-1806cf29c76e"
   },
   "outputs": [
    {
     "name": "stdout",
     "output_type": "stream",
     "text": [
      "Fitting 5 folds for each of 3 candidates, totalling 15 fits\n",
      "[CV] bootstrap=True, max_depth=49, max_features=auto, min_samples_leaf=1, min_samples_split=3, n_estimators=800 \n"
     ]
    },
    {
     "name": "stderr",
     "output_type": "stream",
     "text": [
      "[Parallel(n_jobs=1)]: Using backend SequentialBackend with 1 concurrent workers.\n"
     ]
    },
    {
     "name": "stdout",
     "output_type": "stream",
     "text": [
      "[CV]  bootstrap=True, max_depth=49, max_features=auto, min_samples_leaf=1, min_samples_split=3, n_estimators=800, score=0.963, total=   3.8s\n",
      "[CV] bootstrap=True, max_depth=49, max_features=auto, min_samples_leaf=1, min_samples_split=3, n_estimators=800 \n"
     ]
    },
    {
     "name": "stderr",
     "output_type": "stream",
     "text": [
      "[Parallel(n_jobs=1)]: Done   1 out of   1 | elapsed:    3.8s remaining:    0.0s\n"
     ]
    },
    {
     "name": "stdout",
     "output_type": "stream",
     "text": [
      "[CV]  bootstrap=True, max_depth=49, max_features=auto, min_samples_leaf=1, min_samples_split=3, n_estimators=800, score=0.954, total=   4.1s\n",
      "[CV] bootstrap=True, max_depth=49, max_features=auto, min_samples_leaf=1, min_samples_split=3, n_estimators=800 \n"
     ]
    },
    {
     "name": "stderr",
     "output_type": "stream",
     "text": [
      "[Parallel(n_jobs=1)]: Done   2 out of   2 | elapsed:    7.9s remaining:    0.0s\n"
     ]
    },
    {
     "name": "stdout",
     "output_type": "stream",
     "text": [
      "[CV]  bootstrap=True, max_depth=49, max_features=auto, min_samples_leaf=1, min_samples_split=3, n_estimators=800, score=0.963, total=   3.8s\n",
      "[CV] bootstrap=True, max_depth=49, max_features=auto, min_samples_leaf=1, min_samples_split=3, n_estimators=800 \n",
      "[CV]  bootstrap=True, max_depth=49, max_features=auto, min_samples_leaf=1, min_samples_split=3, n_estimators=800, score=0.963, total=   3.7s\n",
      "[CV] bootstrap=True, max_depth=49, max_features=auto, min_samples_leaf=1, min_samples_split=3, n_estimators=800 \n",
      "[CV]  bootstrap=True, max_depth=49, max_features=auto, min_samples_leaf=1, min_samples_split=3, n_estimators=800, score=0.958, total=   3.9s\n",
      "[CV] bootstrap=True, max_depth=50, max_features=auto, min_samples_leaf=1, min_samples_split=3, n_estimators=800 \n",
      "[CV]  bootstrap=True, max_depth=50, max_features=auto, min_samples_leaf=1, min_samples_split=3, n_estimators=800, score=0.963, total=   3.9s\n",
      "[CV] bootstrap=True, max_depth=50, max_features=auto, min_samples_leaf=1, min_samples_split=3, n_estimators=800 \n",
      "[CV]  bootstrap=True, max_depth=50, max_features=auto, min_samples_leaf=1, min_samples_split=3, n_estimators=800, score=0.954, total=   3.8s\n",
      "[CV] bootstrap=True, max_depth=50, max_features=auto, min_samples_leaf=1, min_samples_split=3, n_estimators=800 \n",
      "[CV]  bootstrap=True, max_depth=50, max_features=auto, min_samples_leaf=1, min_samples_split=3, n_estimators=800, score=0.963, total=   3.8s\n",
      "[CV] bootstrap=True, max_depth=50, max_features=auto, min_samples_leaf=1, min_samples_split=3, n_estimators=800 \n",
      "[CV]  bootstrap=True, max_depth=50, max_features=auto, min_samples_leaf=1, min_samples_split=3, n_estimators=800, score=0.963, total=   4.0s\n",
      "[CV] bootstrap=True, max_depth=50, max_features=auto, min_samples_leaf=1, min_samples_split=3, n_estimators=800 \n",
      "[CV]  bootstrap=True, max_depth=50, max_features=auto, min_samples_leaf=1, min_samples_split=3, n_estimators=800, score=0.958, total=   3.9s\n",
      "[CV] bootstrap=True, max_depth=51, max_features=auto, min_samples_leaf=1, min_samples_split=3, n_estimators=800 \n",
      "[CV]  bootstrap=True, max_depth=51, max_features=auto, min_samples_leaf=1, min_samples_split=3, n_estimators=800, score=0.963, total=   3.9s\n",
      "[CV] bootstrap=True, max_depth=51, max_features=auto, min_samples_leaf=1, min_samples_split=3, n_estimators=800 \n",
      "[CV]  bootstrap=True, max_depth=51, max_features=auto, min_samples_leaf=1, min_samples_split=3, n_estimators=800, score=0.954, total=   3.7s\n",
      "[CV] bootstrap=True, max_depth=51, max_features=auto, min_samples_leaf=1, min_samples_split=3, n_estimators=800 \n",
      "[CV]  bootstrap=True, max_depth=51, max_features=auto, min_samples_leaf=1, min_samples_split=3, n_estimators=800, score=0.963, total=   3.6s\n",
      "[CV] bootstrap=True, max_depth=51, max_features=auto, min_samples_leaf=1, min_samples_split=3, n_estimators=800 \n",
      "[CV]  bootstrap=True, max_depth=51, max_features=auto, min_samples_leaf=1, min_samples_split=3, n_estimators=800, score=0.963, total=   3.7s\n",
      "[CV] bootstrap=True, max_depth=51, max_features=auto, min_samples_leaf=1, min_samples_split=3, n_estimators=800 \n",
      "[CV]  bootstrap=True, max_depth=51, max_features=auto, min_samples_leaf=1, min_samples_split=3, n_estimators=800, score=0.958, total=   3.9s\n"
     ]
    },
    {
     "name": "stderr",
     "output_type": "stream",
     "text": [
      "[Parallel(n_jobs=1)]: Done  15 out of  15 | elapsed:   57.7s finished\n"
     ]
    },
    {
     "data": {
      "text/plain": [
       "GridSearchCV(cv=None, error_score=nan,\n",
       "             estimator=RandomForestClassifier(bootstrap=True, ccp_alpha=0.0,\n",
       "                                              class_weight=None,\n",
       "                                              criterion='gini', max_depth=None,\n",
       "                                              max_features='auto',\n",
       "                                              max_leaf_nodes=None,\n",
       "                                              max_samples=None,\n",
       "                                              min_impurity_decrease=0.0,\n",
       "                                              min_impurity_split=None,\n",
       "                                              min_samples_leaf=1,\n",
       "                                              min_samples_split=2,\n",
       "                                              min_weight_fraction_leaf=0.0,\n",
       "                                              n_estimators=100, n_jobs=None,\n",
       "                                              oob_score=False, random_state=10,\n",
       "                                              verbose=0, warm_start=False),\n",
       "             iid='deprecated', n_jobs=None,\n",
       "             param_grid={'bootstrap': [True], 'max_depth': [49, 50, 51],\n",
       "                         'max_features': ['auto'], 'min_samples_leaf': [1],\n",
       "                         'min_samples_split': [3], 'n_estimators': [800]},\n",
       "             pre_dispatch='2*n_jobs', refit=True, return_train_score=False,\n",
       "             scoring=None, verbose=3)"
      ]
     },
     "execution_count": 133,
     "metadata": {
      "tags": []
     },
     "output_type": "execute_result"
    }
   ],
   "source": [
    "parameters={'bootstrap': [True],\n",
    "            'max_depth': [49,50,51],\n",
    "            'max_features': ['auto'],\n",
    "            'min_samples_leaf': [1],\n",
    "            'min_samples_split': [3],\n",
    "            'n_estimators': [800]}\n",
    "grid1=GridSearchCV(RandomForestClassifier(random_state=10),parameters,verbose=3)\n",
    "grid1.fit(X_train_smote,y_train_smote)"
   ]
  },
  {
   "cell_type": "code",
   "execution_count": 134,
   "metadata": {
    "colab": {
     "base_uri": "https://localhost:8080/",
     "height": 118
    },
    "colab_type": "code",
    "id": "H9UhmC3g-w_Y",
    "outputId": "1a29189c-c1b3-4098-a6aa-078be03c8acf"
   },
   "outputs": [
    {
     "data": {
      "text/plain": [
       "{'bootstrap': True,\n",
       " 'max_depth': 49,\n",
       " 'max_features': 'auto',\n",
       " 'min_samples_leaf': 1,\n",
       " 'min_samples_split': 3,\n",
       " 'n_estimators': 800}"
      ]
     },
     "execution_count": 134,
     "metadata": {
      "tags": []
     },
     "output_type": "execute_result"
    }
   ],
   "source": [
    "grid1.best_params_"
   ]
  },
  {
   "cell_type": "code",
   "execution_count": null,
   "metadata": {
    "colab": {},
    "colab_type": "code",
    "id": "kSu1l_-k8Pcu"
   },
   "outputs": [],
   "source": [
    "params={'leaf_size':[1,10,50],\n",
    "        'n_neighbors':[1,4,5],\n",
    "         'p':[1,2]}\n",
    "grid2=GridSearchCV(KNeighborsClassifier(),params,verbose=3)\n",
    "grid2.fit(X_train_smote,y_train_smote)"
   ]
  },
  {
   "cell_type": "code",
   "execution_count": 143,
   "metadata": {
    "colab": {
     "base_uri": "https://localhost:8080/",
     "height": 34
    },
    "colab_type": "code",
    "id": "d3MUvdD3F9GI",
    "outputId": "018e2a27-fe0d-4d93-eb1b-4a5c6b4b1a91"
   },
   "outputs": [
    {
     "data": {
      "text/plain": [
       "{'leaf_size': 50, 'n_neighbors': 1, 'p': 2}"
      ]
     },
     "execution_count": 143,
     "metadata": {
      "tags": []
     },
     "output_type": "execute_result"
    }
   ],
   "source": [
    "grid2.best_params_"
   ]
  },
  {
   "cell_type": "code",
   "execution_count": 189,
   "metadata": {
    "colab": {},
    "colab_type": "code",
    "id": "8bOiUksE0vBC"
   },
   "outputs": [],
   "source": [
    "model1=RandomForestClassifier(bootstrap=True,\n",
    "                             random_state=10,                                                     \n",
    "                             max_depth=49,\n",
    "                             n_estimators=800,\n",
    "                             max_features='auto',\n",
    "                             min_samples_split=3,\n",
    "                             min_samples_leaf=1)\n",
    "model1.fit(X_train_smote,y_train_smote)\n",
    "yhat=model1.predict(X_test)\n",
    "ytr=model1.predict(X_train_smote)"
   ]
  },
  {
   "cell_type": "code",
   "execution_count": 190,
   "metadata": {
    "colab": {
     "base_uri": "https://localhost:8080/",
     "height": 50
    },
    "colab_type": "code",
    "id": "jfSQnBmr0vHj",
    "outputId": "b89a476d-27bc-438d-fb9c-62abbd762d62"
   },
   "outputs": [
    {
     "name": "stdout",
     "output_type": "stream",
     "text": [
      "Training accuracy 0.9944289693593314\n",
      "Testing accuracy 0.9857723577235772\n"
     ]
    }
   ],
   "source": [
    "\n",
    "print(\"Training accuracy\",accuracy_score(y_train_smote,ytr))\n",
    "print(\"Testing accuracy\",accuracy_score(y_test,yhat))"
   ]
  },
  {
   "cell_type": "code",
   "execution_count": 197,
   "metadata": {
    "colab": {
     "base_uri": "https://localhost:8080/",
     "height": 269
    },
    "colab_type": "code",
    "id": "vZLMpYpJ0vKZ",
    "outputId": "b9c0befa-3cd3-4f58-ad16-19b5189e3de6"
   },
   "outputs": [
    {
     "name": "stdout",
     "output_type": "stream",
     "text": [
      "col_0     0    1\n",
      "Result          \n",
      "0       281    4\n",
      "1         3  204\n",
      "\n",
      "\n",
      "              precision    recall  f1-score   support\n",
      "\n",
      "           0       0.99      0.99      0.99       285\n",
      "           1       0.98      0.99      0.98       207\n",
      "\n",
      "    accuracy                           0.99       492\n",
      "   macro avg       0.99      0.99      0.99       492\n",
      "weighted avg       0.99      0.99      0.99       492\n",
      "\n"
     ]
    }
   ],
   "source": [
    "print(pd.crosstab(y_test,yhat))\n",
    "print(\"\\n\")\n",
    "print(classification_report(y_test,yhat))"
   ]
  },
  {
   "cell_type": "code",
   "execution_count": 207,
   "metadata": {
    "colab": {
     "base_uri": "https://localhost:8080/",
     "height": 320
    },
    "colab_type": "code",
    "id": "Sl2RDrSpKHRj",
    "outputId": "8ebbf0fe-1074-4baf-b960-2c8b6c2000a6"
   },
   "outputs": [
    {
     "data": {
      "image/png": "[encoded data removed]",
      "text/plain": [
       "<Figure size 360x360 with 1 Axes>"
      ]
     },
     "metadata": {
      "tags": []
     },
     "output_type": "display_data"
    }
   ],
   "source": [
    "#plotting Roc curve\n",
    "y_proba = model1.predict_proba(X_test)[::,1]\n",
    "fpr, tpr, _ = roc_curve(y_test,  y_proba)\n",
    "auc = roc_auc_score(y_test, y_proba)\n",
    "plt.plot(fpr,tpr,label=\" auc=\"+str(auc))\n",
    "rcParams['figure.figsize'] = 3,2\n",
    "plt.legend(loc=4)\n",
    "plt.show()"
   ]
  },
  {
   "cell_type": "code",
   "execution_count": 192,
   "metadata": {
    "colab": {},
    "colab_type": "code",
    "id": "omxQ9lB6GJX8"
   },
   "outputs": [],
   "source": [
    "model2=KNeighborsClassifier(leaf_size= 50, \n",
    "                            n_neighbors=1, \n",
    "                            p= 2)\n",
    "model2.fit(X_train_smote,y_train_smote)\n",
    "yhat1=model2.predict(X_test)\n",
    "ytr1=model2.predict(X_train_smote)"
   ]
  },
  {
   "cell_type": "code",
   "execution_count": 193,
   "metadata": {
    "colab": {
     "base_uri": "https://localhost:8080/",
     "height": 50
    },
    "colab_type": "code",
    "id": "fQjI_56WGJX-",
    "outputId": "2e859419-d085-464a-b87a-1ee4e0b244f9"
   },
   "outputs": [
    {
     "name": "stdout",
     "output_type": "stream",
     "text": [
      "Training accuracy 0.9935004642525533\n",
      "Testing accuracy 0.9796747967479674\n"
     ]
    }
   ],
   "source": [
    "\n",
    "print(\"Training accuracy\",accuracy_score(y_train_smote,ytr1))\n",
    "print(\"Testing accuracy\",accuracy_score(y_test,yhat1))"
   ]
  },
  {
   "cell_type": "code",
   "execution_count": 198,
   "metadata": {
    "colab": {
     "base_uri": "https://localhost:8080/",
     "height": 269
    },
    "colab_type": "code",
    "id": "WuTwhyxtGJYA",
    "outputId": "983d1a7f-88e5-4a06-c2eb-101cd122f39a"
   },
   "outputs": [
    {
     "name": "stdout",
     "output_type": "stream",
     "text": [
      "col_0     0    1\n",
      "Result          \n",
      "0       276    9\n",
      "1         1  206\n",
      "\n",
      "\n",
      "              precision    recall  f1-score   support\n",
      "\n",
      "           0       1.00      0.97      0.98       285\n",
      "           1       0.96      1.00      0.98       207\n",
      "\n",
      "    accuracy                           0.98       492\n",
      "   macro avg       0.98      0.98      0.98       492\n",
      "weighted avg       0.98      0.98      0.98       492\n",
      "\n"
     ]
    }
   ],
   "source": [
    "print(pd.crosstab(y_test,yhat1))\n",
    "print(\"\\n\")\n",
    "print(classification_report(y_test,yhat1))"
   ]
  },
  {
   "cell_type": "code",
   "execution_count": 210,
   "metadata": {
    "colab": {
     "base_uri": "https://localhost:8080/",
     "height": 320
    },
    "colab_type": "code",
    "id": "_vgQXniuAp7W",
    "outputId": "b55c7545-f2de-4ac2-e83b-97a30628dd3b"
   },
   "outputs": [
    {
     "data": {
      "image/png": "[encoded data removed]",
      "text/plain": [
       "<Figure size 360x360 with 1 Axes>"
      ]
     },
     "metadata": {
      "tags": []
     },
     "output_type": "display_data"
    }
   ],
   "source": [
    "#plotting Roc curve\n",
    "y_proba = model2.predict_proba(X_test)[::,1]\n",
    "fpr, tpr, _ = roc_curve(y_test,  y_proba)\n",
    "auc = roc_auc_score(y_test, y_proba)\n",
    "plt.plot(fpr,tpr,label=\" auc=\"+str(auc))\n",
    "rcParams['figure.figsize'] = 10,10\n",
    "plt.legend(loc=4)\n",
    "plt.show()"
   ]
  },
  {
   "cell_type": "markdown",
   "metadata": {
    "colab_type": "text",
    "id": "vxOE_bunNTqZ"
   },
   "source": [
    "**Since the Recall of minortity class ie Result=1 is more important to the business problem KNN is our final mode**"
   ]
  }
 ],
 "metadata": {
  "colab": {
   "name": "Phishing",
   "provenance": []
  },
  "kernelspec": {
   "display_name": "Python 3 (ipykernel)",
   "language": "python",
   "name": "python3"
  },
  "language_info": {
   "codemirror_mode": {
    "name": "ipython",
    "version": 3
   },
   "file_extension": ".py",
   "mimetype": "text/x-python",
   "name": "python",
   "nbconvert_exporter": "python",
   "pygments_lexer": "ipython3",
   "version": "3.7.11"
  }
 },
 "nbformat": 4,
 "nbformat_minor": 1
}
