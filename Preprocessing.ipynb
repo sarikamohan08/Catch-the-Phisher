{
 "cells": [
  {
   "cell_type": "code",
   "execution_count": 3,
   "metadata": {
    "colab": {},
    "colab_type": "code",
    "id": "odaJbs_azio5"
   },
   "outputs": [],
   "source": [
    "#importing necessary packages\n",
    "import pandas as pd\n",
    "import numpy as np\n",
    "from sklearn.model_selection import train_test_split,GridSearchCV,KFold,cross_val_score\n",
    "from sklearn.preprocessing import LabelEncoder\n",
    "from sklearn.ensemble import RandomForestClassifier\n",
    "from sklearn.metrics import accuracy_score,auc,classification_report,roc_curve,roc_auc_score\n",
    "from sklearn.decomposition import PCA\n",
    "from imblearn.over_sampling import SMOTE\n",
    "import matplotlib.pyplot as plt\n",
    "from matplotlib import rcParams\n",
    "import seaborn as sns\n",
    "from sklearn.tree import DecisionTreeClassifier\n",
    "from sklearn.naive_bayes import GaussianNB  \n",
    "from sklearn.neighbors import KNeighborsClassifier\n",
    "from sklearn.svm import SVC\n",
    "from sklearn.linear_model import LogisticRegression\n",
    "from scipy.stats import chi2_contingency\n",
    "\n",
    "\n"
   ]
  },
  {
   "cell_type": "code",
   "execution_count": 4,
   "metadata": {
    "colab": {},
    "colab_type": "code",
    "id": "0APLRNM3f-iv"
   },
   "outputs": [],
   "source": [
    "#Setting plot configurations\n",
    "%matplotlib inline\n",
    "rcParams['figure.figsize']= 5,4\n",
    "sns.set_style('whitegrid')"
   ]
  },
  {
   "cell_type": "code",
   "execution_count": 5,
   "metadata": {
    "colab": {
     "base_uri": "https://localhost:8080/",
     "height": 232
    },
    "colab_type": "code",
    "id": "tUeosLyIqN7K",
    "outputId": "98763c57-1312-4e23-a875-e6c1a494aa7f"
   },
   "outputs": [
    {
     "name": "stdout",
     "output_type": "stream",
     "text": [
      "(11055, 31)\n"
     ]
    },
    {
     "data": {
      "text/html": [
       "<div>\n",
       "<style scoped>\n",
       "    .dataframe tbody tr th:only-of-type {\n",
       "        vertical-align: middle;\n",
       "    }\n",
       "\n",
       "    .dataframe tbody tr th {\n",
       "        vertical-align: top;\n",
       "    }\n",
       "\n",
       "    .dataframe thead th {\n",
       "        text-align: right;\n",
       "    }\n",
       "</style>\n",
       "<table border=\"1\" class=\"dataframe\">\n",
       "  <thead>\n",
       "    <tr style=\"text-align: right;\">\n",
       "      <th></th>\n",
       "      <th>having_IP_Address</th>\n",
       "      <th>URL_Length</th>\n",
       "      <th>Shortining_Service</th>\n",
       "      <th>having_At_Symbol</th>\n",
       "      <th>double_slash_redirecting</th>\n",
       "      <th>Prefix_Suffix</th>\n",
       "      <th>having_Sub_Domain</th>\n",
       "      <th>SSLfinal_State</th>\n",
       "      <th>Domain_registeration_length</th>\n",
       "      <th>Favicon</th>\n",
       "      <th>...</th>\n",
       "      <th>popUpWidnow</th>\n",
       "      <th>Iframe</th>\n",
       "      <th>age_of_domain</th>\n",
       "      <th>DNSRecord</th>\n",
       "      <th>web_traffic</th>\n",
       "      <th>Page_Rank</th>\n",
       "      <th>Google_Index</th>\n",
       "      <th>Links_pointing_to_page</th>\n",
       "      <th>Statistical_report</th>\n",
       "      <th>Result</th>\n",
       "    </tr>\n",
       "  </thead>\n",
       "  <tbody>\n",
       "    <tr>\n",
       "      <th>0</th>\n",
       "      <td>-1</td>\n",
       "      <td>1</td>\n",
       "      <td>1</td>\n",
       "      <td>1</td>\n",
       "      <td>-1</td>\n",
       "      <td>-1</td>\n",
       "      <td>-1</td>\n",
       "      <td>-1</td>\n",
       "      <td>-1</td>\n",
       "      <td>1</td>\n",
       "      <td>...</td>\n",
       "      <td>1</td>\n",
       "      <td>1</td>\n",
       "      <td>-1</td>\n",
       "      <td>-1</td>\n",
       "      <td>-1</td>\n",
       "      <td>-1</td>\n",
       "      <td>1</td>\n",
       "      <td>1</td>\n",
       "      <td>-1</td>\n",
       "      <td>-1</td>\n",
       "    </tr>\n",
       "    <tr>\n",
       "      <th>1</th>\n",
       "      <td>1</td>\n",
       "      <td>1</td>\n",
       "      <td>1</td>\n",
       "      <td>1</td>\n",
       "      <td>1</td>\n",
       "      <td>-1</td>\n",
       "      <td>0</td>\n",
       "      <td>1</td>\n",
       "      <td>-1</td>\n",
       "      <td>1</td>\n",
       "      <td>...</td>\n",
       "      <td>1</td>\n",
       "      <td>1</td>\n",
       "      <td>-1</td>\n",
       "      <td>-1</td>\n",
       "      <td>0</td>\n",
       "      <td>-1</td>\n",
       "      <td>1</td>\n",
       "      <td>1</td>\n",
       "      <td>1</td>\n",
       "      <td>-1</td>\n",
       "    </tr>\n",
       "    <tr>\n",
       "      <th>2</th>\n",
       "      <td>1</td>\n",
       "      <td>0</td>\n",
       "      <td>1</td>\n",
       "      <td>1</td>\n",
       "      <td>1</td>\n",
       "      <td>-1</td>\n",
       "      <td>-1</td>\n",
       "      <td>-1</td>\n",
       "      <td>-1</td>\n",
       "      <td>1</td>\n",
       "      <td>...</td>\n",
       "      <td>1</td>\n",
       "      <td>1</td>\n",
       "      <td>1</td>\n",
       "      <td>-1</td>\n",
       "      <td>1</td>\n",
       "      <td>-1</td>\n",
       "      <td>1</td>\n",
       "      <td>0</td>\n",
       "      <td>-1</td>\n",
       "      <td>-1</td>\n",
       "    </tr>\n",
       "    <tr>\n",
       "      <th>3</th>\n",
       "      <td>1</td>\n",
       "      <td>0</td>\n",
       "      <td>1</td>\n",
       "      <td>1</td>\n",
       "      <td>1</td>\n",
       "      <td>-1</td>\n",
       "      <td>-1</td>\n",
       "      <td>-1</td>\n",
       "      <td>1</td>\n",
       "      <td>1</td>\n",
       "      <td>...</td>\n",
       "      <td>1</td>\n",
       "      <td>1</td>\n",
       "      <td>-1</td>\n",
       "      <td>-1</td>\n",
       "      <td>1</td>\n",
       "      <td>-1</td>\n",
       "      <td>1</td>\n",
       "      <td>-1</td>\n",
       "      <td>1</td>\n",
       "      <td>-1</td>\n",
       "    </tr>\n",
       "    <tr>\n",
       "      <th>4</th>\n",
       "      <td>1</td>\n",
       "      <td>0</td>\n",
       "      <td>-1</td>\n",
       "      <td>1</td>\n",
       "      <td>1</td>\n",
       "      <td>-1</td>\n",
       "      <td>1</td>\n",
       "      <td>1</td>\n",
       "      <td>-1</td>\n",
       "      <td>1</td>\n",
       "      <td>...</td>\n",
       "      <td>-1</td>\n",
       "      <td>1</td>\n",
       "      <td>-1</td>\n",
       "      <td>-1</td>\n",
       "      <td>0</td>\n",
       "      <td>-1</td>\n",
       "      <td>1</td>\n",
       "      <td>1</td>\n",
       "      <td>1</td>\n",
       "      <td>1</td>\n",
       "    </tr>\n",
       "  </tbody>\n",
       "</table>\n",
       "<p>5 rows × 31 columns</p>\n",
       "</div>"
      ],
      "text/plain": [
       "   having_IP_Address  URL_Length  Shortining_Service  having_At_Symbol  \\\n",
       "0                 -1           1                   1                 1   \n",
       "1                  1           1                   1                 1   \n",
       "2                  1           0                   1                 1   \n",
       "3                  1           0                   1                 1   \n",
       "4                  1           0                  -1                 1   \n",
       "\n",
       "   double_slash_redirecting  Prefix_Suffix  having_Sub_Domain  SSLfinal_State  \\\n",
       "0                        -1             -1                 -1              -1   \n",
       "1                         1             -1                  0               1   \n",
       "2                         1             -1                 -1              -1   \n",
       "3                         1             -1                 -1              -1   \n",
       "4                         1             -1                  1               1   \n",
       "\n",
       "   Domain_registeration_length  Favicon  ...  popUpWidnow  Iframe  \\\n",
       "0                           -1        1  ...            1       1   \n",
       "1                           -1        1  ...            1       1   \n",
       "2                           -1        1  ...            1       1   \n",
       "3                            1        1  ...            1       1   \n",
       "4                           -1        1  ...           -1       1   \n",
       "\n",
       "   age_of_domain  DNSRecord  web_traffic  Page_Rank  Google_Index  \\\n",
       "0             -1         -1           -1         -1             1   \n",
       "1             -1         -1            0         -1             1   \n",
       "2              1         -1            1         -1             1   \n",
       "3             -1         -1            1         -1             1   \n",
       "4             -1         -1            0         -1             1   \n",
       "\n",
       "   Links_pointing_to_page  Statistical_report  Result  \n",
       "0                       1                  -1      -1  \n",
       "1                       1                   1      -1  \n",
       "2                       0                  -1      -1  \n",
       "3                      -1                   1      -1  \n",
       "4                       1                   1       1  \n",
       "\n",
       "[5 rows x 31 columns]"
      ]
     },
     "execution_count": 5,
     "metadata": {},
     "output_type": "execute_result"
    }
   ],
   "source": [
    "#loading the file\n",
    "df= pd.read_csv('phising.csv')\n",
    "print(df.shape)\n",
    "df.head()\n"
   ]
  },
  {
   "cell_type": "code",
   "execution_count": 6,
   "metadata": {
    "colab": {
     "base_uri": "https://localhost:8080/",
     "height": 1000
    },
    "colab_type": "code",
    "id": "nWzvKVpYz13Y",
    "outputId": "50840e5d-fcf3-44fe-fb46-24d3ad854c89"
   },
   "outputs": [
    {
     "name": "stdout",
     "output_type": "stream",
     "text": [
      "having_IP_Address              0\n",
      "URL_Length                     0\n",
      "Shortining_Service             0\n",
      "having_At_Symbol               0\n",
      "double_slash_redirecting       0\n",
      "Prefix_Suffix                  0\n",
      "having_Sub_Domain              0\n",
      "SSLfinal_State                 0\n",
      "Domain_registeration_length    0\n",
      "Favicon                        0\n",
      "port                           0\n",
      "HTTPS_token                    0\n",
      "Request_URL                    0\n",
      "URL_of_Anchor                  0\n",
      "Links_in_tags                  0\n",
      "SFH                            0\n",
      "Submitting_to_email            0\n",
      "Abnormal_URL                   0\n",
      "Redirect                       0\n",
      "on_mouseover                   0\n",
      "RightClick                     0\n",
      "popUpWidnow                    0\n",
      "Iframe                         0\n",
      "age_of_domain                  0\n",
      "DNSRecord                      0\n",
      "web_traffic                    0\n",
      "Page_Rank                      0\n",
      "Google_Index                   0\n",
      "Links_pointing_to_page         0\n",
      "Statistical_report             0\n",
      "Result                         0\n",
      "dtype: int64\n",
      "<class 'pandas.core.frame.DataFrame'>\n",
      "RangeIndex: 11055 entries, 0 to 11054\n",
      "Data columns (total 31 columns):\n",
      "having_IP_Address              11055 non-null int64\n",
      "URL_Length                     11055 non-null int64\n",
      "Shortining_Service             11055 non-null int64\n",
      "having_At_Symbol               11055 non-null int64\n",
      "double_slash_redirecting       11055 non-null int64\n",
      "Prefix_Suffix                  11055 non-null int64\n",
      "having_Sub_Domain              11055 non-null int64\n",
      "SSLfinal_State                 11055 non-null int64\n",
      "Domain_registeration_length    11055 non-null int64\n",
      "Favicon                        11055 non-null int64\n",
      "port                           11055 non-null int64\n",
      "HTTPS_token                    11055 non-null int64\n",
      "Request_URL                    11055 non-null int64\n",
      "URL_of_Anchor                  11055 non-null int64\n",
      "Links_in_tags                  11055 non-null int64\n",
      "SFH                            11055 non-null int64\n",
      "Submitting_to_email            11055 non-null int64\n",
      "Abnormal_URL                   11055 non-null int64\n",
      "Redirect                       11055 non-null int64\n",
      "on_mouseover                   11055 non-null int64\n",
      "RightClick                     11055 non-null int64\n",
      "popUpWidnow                    11055 non-null int64\n",
      "Iframe                         11055 non-null int64\n",
      "age_of_domain                  11055 non-null int64\n",
      "DNSRecord                      11055 non-null int64\n",
      "web_traffic                    11055 non-null int64\n",
      "Page_Rank                      11055 non-null int64\n",
      "Google_Index                   11055 non-null int64\n",
      "Links_pointing_to_page         11055 non-null int64\n",
      "Statistical_report             11055 non-null int64\n",
      "Result                         11055 non-null int64\n",
      "dtypes: int64(31)\n",
      "memory usage: 2.6 MB\n",
      "None\n"
     ]
    }
   ],
   "source": [
    "#performing basic checks\n",
    "print(df.isnull().sum())\n",
    "print(df.info())\n"
   ]
  },
  {
   "cell_type": "code",
   "execution_count": 7,
   "metadata": {
    "colab": {
     "base_uri": "https://localhost:8080/",
     "height": 346
    },
    "colab_type": "code",
    "id": "Xik_ix6R5L1O",
    "outputId": "2bf69ae6-5ebf-49b7-8b05-6288510c4720"
   },
   "outputs": [
    {
     "name": "stdout",
     "output_type": "stream",
     "text": [
      " 1    6157\n",
      "-1    4898\n",
      "Name: Result, dtype: int64\n"
     ]
    },
    {
     "name": "stderr",
     "output_type": "stream",
     "text": [
      "C:\\Users\\Lenono\\anaconda3\\envs\\Phising_Classifier\\lib\\site-packages\\seaborn\\_decorators.py:43: FutureWarning: Pass the following variable as a keyword arg: x. From version 0.12, the only valid positional argument will be `data`, and passing other arguments without an explicit keyword will result in an error or misinterpretation.\n",
      "  FutureWarning\n"
     ]
    },
    {
     "data": {
      "image/png": "[encoded data removed]",
      "text/plain": [
       "<Figure size 360x288 with 1 Axes>"
      ]
     },
     "metadata": {},
     "output_type": "display_data"
    }
   ],
   "source": [
    "print(df.Result.value_counts())\n",
    "sns.countplot(df.Result)\n",
    "plt.title(\"Result Count\")\n",
    "plt.show()"
   ]
  },
  {
   "cell_type": "markdown",
   "metadata": {
    "colab_type": "text",
    "id": "QpkpXGto0uCK"
   },
   "source": [
    "No null values detected. However dtype of columns are  continous. There is an imbalance between the majority and minoriy classes"
   ]
  },
  {
   "cell_type": "markdown",
   "metadata": {
    "colab_type": "text",
    "id": "9Vl5vskU1asF"
   },
   "source": [
    "**EDA**"
   ]
  },
  {
   "cell_type": "code",
   "execution_count": 8,
   "metadata": {
    "colab": {
     "base_uri": "https://localhost:8080/",
     "height": 661
    },
    "colab_type": "code",
    "id": "AwhOA7Eu1CKz",
    "outputId": "cb3f58d0-6bce-4d48-bfb8-5d4e8a9514b7"
   },
   "outputs": [
    {
     "name": "stderr",
     "output_type": "stream",
     "text": [
      "C:\\Users\\Lenono\\anaconda3\\envs\\Phising_Classifier\\lib\\site-packages\\seaborn\\_decorators.py:43: FutureWarning: Pass the following variable as a keyword arg: x. From version 0.12, the only valid positional argument will be `data`, and passing other arguments without an explicit keyword will result in an error or misinterpretation.\n",
      "  FutureWarning\n",
      "C:\\Users\\Lenono\\anaconda3\\envs\\Phising_Classifier\\lib\\site-packages\\seaborn\\_decorators.py:43: FutureWarning: Pass the following variable as a keyword arg: x. From version 0.12, the only valid positional argument will be `data`, and passing other arguments without an explicit keyword will result in an error or misinterpretation.\n",
      "  FutureWarning\n",
      "C:\\Users\\Lenono\\anaconda3\\envs\\Phising_Classifier\\lib\\site-packages\\seaborn\\_decorators.py:43: FutureWarning: Pass the following variable as a keyword arg: x. From version 0.12, the only valid positional argument will be `data`, and passing other arguments without an explicit keyword will result in an error or misinterpretation.\n",
      "  FutureWarning\n",
      "C:\\Users\\Lenono\\anaconda3\\envs\\Phising_Classifier\\lib\\site-packages\\seaborn\\_decorators.py:43: FutureWarning: Pass the following variable as a keyword arg: x. From version 0.12, the only valid positional argument will be `data`, and passing other arguments without an explicit keyword will result in an error or misinterpretation.\n",
      "  FutureWarning\n",
      "C:\\Users\\Lenono\\anaconda3\\envs\\Phising_Classifier\\lib\\site-packages\\seaborn\\_decorators.py:43: FutureWarning: Pass the following variable as a keyword arg: x. From version 0.12, the only valid positional argument will be `data`, and passing other arguments without an explicit keyword will result in an error or misinterpretation.\n",
      "  FutureWarning\n",
      "C:\\Users\\Lenono\\anaconda3\\envs\\Phising_Classifier\\lib\\site-packages\\seaborn\\_decorators.py:43: FutureWarning: Pass the following variable as a keyword arg: x. From version 0.12, the only valid positional argument will be `data`, and passing other arguments without an explicit keyword will result in an error or misinterpretation.\n",
      "  FutureWarning\n",
      "C:\\Users\\Lenono\\anaconda3\\envs\\Phising_Classifier\\lib\\site-packages\\seaborn\\_decorators.py:43: FutureWarning: Pass the following variable as a keyword arg: x. From version 0.12, the only valid positional argument will be `data`, and passing other arguments without an explicit keyword will result in an error or misinterpretation.\n",
      "  FutureWarning\n",
      "C:\\Users\\Lenono\\anaconda3\\envs\\Phising_Classifier\\lib\\site-packages\\seaborn\\_decorators.py:43: FutureWarning: Pass the following variable as a keyword arg: x. From version 0.12, the only valid positional argument will be `data`, and passing other arguments without an explicit keyword will result in an error or misinterpretation.\n",
      "  FutureWarning\n",
      "C:\\Users\\Lenono\\anaconda3\\envs\\Phising_Classifier\\lib\\site-packages\\seaborn\\_decorators.py:43: FutureWarning: Pass the following variable as a keyword arg: x. From version 0.12, the only valid positional argument will be `data`, and passing other arguments without an explicit keyword will result in an error or misinterpretation.\n",
      "  FutureWarning\n",
      "C:\\Users\\Lenono\\anaconda3\\envs\\Phising_Classifier\\lib\\site-packages\\seaborn\\_decorators.py:43: FutureWarning: Pass the following variable as a keyword arg: x. From version 0.12, the only valid positional argument will be `data`, and passing other arguments without an explicit keyword will result in an error or misinterpretation.\n",
      "  FutureWarning\n",
      "C:\\Users\\Lenono\\anaconda3\\envs\\Phising_Classifier\\lib\\site-packages\\seaborn\\_decorators.py:43: FutureWarning: Pass the following variable as a keyword arg: x. From version 0.12, the only valid positional argument will be `data`, and passing other arguments without an explicit keyword will result in an error or misinterpretation.\n",
      "  FutureWarning\n",
      "C:\\Users\\Lenono\\anaconda3\\envs\\Phising_Classifier\\lib\\site-packages\\seaborn\\_decorators.py:43: FutureWarning: Pass the following variable as a keyword arg: x. From version 0.12, the only valid positional argument will be `data`, and passing other arguments without an explicit keyword will result in an error or misinterpretation.\n",
      "  FutureWarning\n",
      "C:\\Users\\Lenono\\anaconda3\\envs\\Phising_Classifier\\lib\\site-packages\\seaborn\\_decorators.py:43: FutureWarning: Pass the following variable as a keyword arg: x. From version 0.12, the only valid positional argument will be `data`, and passing other arguments without an explicit keyword will result in an error or misinterpretation.\n",
      "  FutureWarning\n",
      "C:\\Users\\Lenono\\anaconda3\\envs\\Phising_Classifier\\lib\\site-packages\\seaborn\\_decorators.py:43: FutureWarning: Pass the following variable as a keyword arg: x. From version 0.12, the only valid positional argument will be `data`, and passing other arguments without an explicit keyword will result in an error or misinterpretation.\n",
      "  FutureWarning\n",
      "C:\\Users\\Lenono\\anaconda3\\envs\\Phising_Classifier\\lib\\site-packages\\seaborn\\_decorators.py:43: FutureWarning: Pass the following variable as a keyword arg: x. From version 0.12, the only valid positional argument will be `data`, and passing other arguments without an explicit keyword will result in an error or misinterpretation.\n",
      "  FutureWarning\n"
     ]
    },
    {
     "data": {
      "image/png": "[encoded data removed]",
      "text/plain": [
       "<Figure size 1080x792 with 15 Axes>"
      ]
     },
     "metadata": {},
     "output_type": "display_data"
    }
   ],
   "source": [
    "#Countplots for first 15 features\n",
    "rcParams['figure.figsize'] = 15,11 #rcParameters run configuration parameters\n",
    "c_palette = ['tab:green', 'tab:red']\n",
    "\n",
    "f,ax=plt.subplots(3,5)\n",
    "sns.countplot('having_IP_Address',hue='Result',data=df,ax=ax[0,0],palette=c_palette)\n",
    "sns.countplot('URL_Length',hue='Result',data=df,ax=ax[0,1],palette=c_palette)\n",
    "sns.countplot('Shortining_Service',hue='Result',data=df,ax=ax[0,2],palette=c_palette)\n",
    "sns.countplot('having_At_Symbol',hue='Result',data=df,ax=ax[0,3],palette=c_palette)\n",
    "sns.countplot('double_slash_redirecting',hue='Result',data=df,ax=ax[0,4],palette=c_palette)\n",
    "sns.countplot('Prefix_Suffix',hue='Result',data=df,ax=ax[1,0],palette=c_palette)\n",
    "sns.countplot('having_Sub_Domain',hue='Result',data=df,ax=ax[1,1],palette=c_palette)\n",
    "sns.countplot('SSLfinal_State',hue='Result',data=df,ax=ax[1,2],palette=c_palette)\n",
    "sns.countplot('Domain_registeration_length',hue='Result',data=df,ax=ax[1,3],palette=c_palette)\n",
    "sns.countplot('Favicon',hue='Result',data=df,ax=ax[1,4],palette=c_palette)\n",
    "sns.countplot('port',hue='Result',data=df,ax=ax[2,0],palette=c_palette)\n",
    "sns.countplot('HTTPS_token',hue='Result',data=df,ax=ax[2,1],palette=c_palette)\n",
    "sns.countplot('Request_URL',hue='Result',data=df,ax=ax[2,2],palette=c_palette)\n",
    "sns.countplot('URL_of_Anchor',hue='Result',data=df,ax=ax[2,3],palette=c_palette)\n",
    "sns.countplot('Links_in_tags',hue='Result',data=df,ax=ax[2,4],palette=c_palette)\n",
    "plt.subplots_adjust(wspace=0.5,hspace=0.5)\n",
    "\n",
    "plt.show()"
   ]
  },
  {
   "cell_type": "code",
   "execution_count": 10,
   "metadata": {
    "colab": {
     "base_uri": "https://localhost:8080/",
     "height": 664
    },
    "colab_type": "code",
    "id": "IlDSMtzp1IUv",
    "outputId": "0e79cf58-6f2d-4b70-8790-d69c1cdcb5ce"
   },
   "outputs": [
    {
     "name": "stderr",
     "output_type": "stream",
     "text": [
      "C:\\Users\\Lenono\\anaconda3\\envs\\Phising_Classifier\\lib\\site-packages\\seaborn\\_decorators.py:43: FutureWarning: Pass the following variable as a keyword arg: x. From version 0.12, the only valid positional argument will be `data`, and passing other arguments without an explicit keyword will result in an error or misinterpretation.\n",
      "  FutureWarning\n",
      "C:\\Users\\Lenono\\anaconda3\\envs\\Phising_Classifier\\lib\\site-packages\\seaborn\\_decorators.py:43: FutureWarning: Pass the following variable as a keyword arg: x. From version 0.12, the only valid positional argument will be `data`, and passing other arguments without an explicit keyword will result in an error or misinterpretation.\n",
      "  FutureWarning\n",
      "C:\\Users\\Lenono\\anaconda3\\envs\\Phising_Classifier\\lib\\site-packages\\seaborn\\_decorators.py:43: FutureWarning: Pass the following variable as a keyword arg: x. From version 0.12, the only valid positional argument will be `data`, and passing other arguments without an explicit keyword will result in an error or misinterpretation.\n",
      "  FutureWarning\n",
      "C:\\Users\\Lenono\\anaconda3\\envs\\Phising_Classifier\\lib\\site-packages\\seaborn\\_decorators.py:43: FutureWarning: Pass the following variable as a keyword arg: x. From version 0.12, the only valid positional argument will be `data`, and passing other arguments without an explicit keyword will result in an error or misinterpretation.\n",
      "  FutureWarning\n",
      "C:\\Users\\Lenono\\anaconda3\\envs\\Phising_Classifier\\lib\\site-packages\\seaborn\\_decorators.py:43: FutureWarning: Pass the following variable as a keyword arg: x. From version 0.12, the only valid positional argument will be `data`, and passing other arguments without an explicit keyword will result in an error or misinterpretation.\n",
      "  FutureWarning\n",
      "C:\\Users\\Lenono\\anaconda3\\envs\\Phising_Classifier\\lib\\site-packages\\seaborn\\_decorators.py:43: FutureWarning: Pass the following variable as a keyword arg: x. From version 0.12, the only valid positional argument will be `data`, and passing other arguments without an explicit keyword will result in an error or misinterpretation.\n",
      "  FutureWarning\n",
      "C:\\Users\\Lenono\\anaconda3\\envs\\Phising_Classifier\\lib\\site-packages\\seaborn\\_decorators.py:43: FutureWarning: Pass the following variable as a keyword arg: x. From version 0.12, the only valid positional argument will be `data`, and passing other arguments without an explicit keyword will result in an error or misinterpretation.\n",
      "  FutureWarning\n",
      "C:\\Users\\Lenono\\anaconda3\\envs\\Phising_Classifier\\lib\\site-packages\\seaborn\\_decorators.py:43: FutureWarning: Pass the following variable as a keyword arg: x. From version 0.12, the only valid positional argument will be `data`, and passing other arguments without an explicit keyword will result in an error or misinterpretation.\n",
      "  FutureWarning\n",
      "C:\\Users\\Lenono\\anaconda3\\envs\\Phising_Classifier\\lib\\site-packages\\seaborn\\_decorators.py:43: FutureWarning: Pass the following variable as a keyword arg: x. From version 0.12, the only valid positional argument will be `data`, and passing other arguments without an explicit keyword will result in an error or misinterpretation.\n",
      "  FutureWarning\n",
      "C:\\Users\\Lenono\\anaconda3\\envs\\Phising_Classifier\\lib\\site-packages\\seaborn\\_decorators.py:43: FutureWarning: Pass the following variable as a keyword arg: x. From version 0.12, the only valid positional argument will be `data`, and passing other arguments without an explicit keyword will result in an error or misinterpretation.\n",
      "  FutureWarning\n",
      "C:\\Users\\Lenono\\anaconda3\\envs\\Phising_Classifier\\lib\\site-packages\\seaborn\\_decorators.py:43: FutureWarning: Pass the following variable as a keyword arg: x. From version 0.12, the only valid positional argument will be `data`, and passing other arguments without an explicit keyword will result in an error or misinterpretation.\n",
      "  FutureWarning\n",
      "C:\\Users\\Lenono\\anaconda3\\envs\\Phising_Classifier\\lib\\site-packages\\seaborn\\_decorators.py:43: FutureWarning: Pass the following variable as a keyword arg: x. From version 0.12, the only valid positional argument will be `data`, and passing other arguments without an explicit keyword will result in an error or misinterpretation.\n",
      "  FutureWarning\n",
      "C:\\Users\\Lenono\\anaconda3\\envs\\Phising_Classifier\\lib\\site-packages\\seaborn\\_decorators.py:43: FutureWarning: Pass the following variable as a keyword arg: x. From version 0.12, the only valid positional argument will be `data`, and passing other arguments without an explicit keyword will result in an error or misinterpretation.\n",
      "  FutureWarning\n",
      "C:\\Users\\Lenono\\anaconda3\\envs\\Phising_Classifier\\lib\\site-packages\\seaborn\\_decorators.py:43: FutureWarning: Pass the following variable as a keyword arg: x. From version 0.12, the only valid positional argument will be `data`, and passing other arguments without an explicit keyword will result in an error or misinterpretation.\n",
      "  FutureWarning\n"
     ]
    },
    {
     "data": {
      "image/png": "[encoded data removed]",
      "text/plain": [
       "<Figure size 1080x792 with 15 Axes>"
      ]
     },
     "metadata": {},
     "output_type": "display_data"
    }
   ],
   "source": [
    "#countplot for rest of the features\n",
    "f,ax=plt.subplots(3,5)\n",
    "sns.countplot('SFH',hue='Result',data=df,ax=ax[0,0],palette=c_palette)\n",
    "sns.countplot('Submitting_to_email',hue='Result',data=df,ax=ax[0,1],palette=c_palette)\n",
    "sns.countplot('Abnormal_URL',hue='Result',data=df,ax=ax[0,2],palette=c_palette)\n",
    "sns.countplot('Redirect',hue='Result',data=df,ax=ax[0,3],palette=c_palette)\n",
    "sns.countplot('on_mouseover',hue='Result',data=df,ax=ax[0,4],palette=c_palette)\n",
    "sns.countplot('RightClick',hue='Result',data=df,ax=ax[1,0],palette=c_palette)\n",
    "sns.countplot('popUpWidnow',hue='Result',data=df,ax=ax[1,1],palette=c_palette)\n",
    "sns.countplot('Iframe',hue='Result',data=df,ax=ax[1,2],palette=c_palette)\n",
    "sns.countplot('age_of_domain',hue='Result',data=df,ax=ax[1,3],palette=c_palette)\n",
    "sns.countplot('DNSRecord',hue='Result',data=df,ax=ax[1,4],palette=c_palette)\n",
    "sns.countplot('web_traffic',hue='Result',data=df,ax=ax[2,0],palette=c_palette)\n",
    "sns.countplot('Google_Index',hue='Result',data=df,ax=ax[2,1],palette=c_palette)\n",
    "sns.countplot('Links_pointing_to_page',hue='Result',data=df,ax=ax[2,2],palette=c_palette)\n",
    "sns.countplot('Statistical_report',hue='Result',data=df,ax=ax[2,3],palette=c_palette)\n",
    "\n",
    "plt.subplots_adjust(wspace=0.5,hspace=0.5)\n",
    "\n",
    "plt.show()"
   ]
  },
  {
   "cell_type": "markdown",
   "metadata": {
    "colab_type": "text",
    "id": "AigTW3VW2QmF"
   },
   "source": [
    "**Chi-Squared test**\n"
   ]
  },
  {
   "cell_type": "code",
   "execution_count": 11,
   "metadata": {
    "colab": {},
    "colab_type": "code",
    "id": "kWw0VZ4j1IKh"
   },
   "outputs": [],
   "source": [
    "\n",
    "df1=df.apply(LabelEncoder().fit_transform)#to remove negative values\n"
   ]
  },
  {
   "cell_type": "code",
   "execution_count": 12,
   "metadata": {
    "colab": {
     "base_uri": "https://localhost:8080/",
     "height": 538
    },
    "colab_type": "code",
    "id": "kqjVPfmE1IBI",
    "outputId": "c856759e-ae27-44ba-e479-60588fced509"
   },
   "outputs": [
    {
     "name": "stdout",
     "output_type": "stream",
     "text": [
      "                                                          0\n",
      "having_IP_Address                    Reject Null Hypothesis\n",
      "URL_Length                           Reject Null Hypothesis\n",
      "Shortining_Service                   Reject Null Hypothesis\n",
      "having_At_Symbol                     Reject Null Hypothesis\n",
      "double_slash_redirecting             Reject Null Hypothesis\n",
      "Prefix_Suffix                        Reject Null Hypothesis\n",
      "having_Sub_Domain                    Reject Null Hypothesis\n",
      "SSLfinal_State                       Reject Null Hypothesis\n",
      "Domain_registeration_length          Reject Null Hypothesis\n",
      "Favicon                      Fail to Reject Null Hypothesis\n",
      "port                                 Reject Null Hypothesis\n",
      "HTTPS_token                          Reject Null Hypothesis\n",
      "Request_URL                          Reject Null Hypothesis\n",
      "URL_of_Anchor                        Reject Null Hypothesis\n",
      "Links_in_tags                        Reject Null Hypothesis\n",
      "SFH                                  Reject Null Hypothesis\n",
      "Submitting_to_email          Fail to Reject Null Hypothesis\n",
      "Abnormal_URL                         Reject Null Hypothesis\n",
      "Redirect                             Reject Null Hypothesis\n",
      "on_mouseover                         Reject Null Hypothesis\n",
      "RightClick                   Fail to Reject Null Hypothesis\n",
      "popUpWidnow                  Fail to Reject Null Hypothesis\n",
      "Iframe                       Fail to Reject Null Hypothesis\n",
      "age_of_domain                        Reject Null Hypothesis\n",
      "DNSRecord                            Reject Null Hypothesis\n",
      "web_traffic                          Reject Null Hypothesis\n",
      "Page_Rank                            Reject Null Hypothesis\n",
      "Google_Index                         Reject Null Hypothesis\n",
      "Links_pointing_to_page               Reject Null Hypothesis\n",
      "Statistical_report                   Reject Null Hypothesis\n"
     ]
    }
   ],
   "source": [
    "# testing the relationship between Result\n",
    "\n",
    "cols=df1.drop('Result',axis=1)\n",
    "chi2_check = []\n",
    "for i in cols:\n",
    "    if chi2_contingency(pd.crosstab(df['Result'], df[i]))[1] < 0.05:\n",
    "        chi2_check.append('Reject Null Hypothesis')\n",
    "    else:\n",
    "        chi2_check.append('Fail to Reject Null Hypothesis')\n",
    "res = pd.DataFrame(chi2_check,index=cols.columns)\n",
    "\n",
    "print(res)"
   ]
  },
  {
   "cell_type": "code",
   "execution_count": 13,
   "metadata": {
    "colab": {},
    "colab_type": "code",
    "id": "_YECmZmSxArJ"
   },
   "outputs": [],
   "source": [
    "#drop non related features\n",
    "df.drop(columns=['Statistical_report','Iframe','popUpWidnow',\n",
    "         'on_mouseover','Submitting_to_email',\n",
    "         'HTTPS_token','port','Favicon','having_At_Symbol'],\n",
    "        axis=1,inplace=True)"
   ]
  },
  {
   "cell_type": "code",
   "execution_count": 14,
   "metadata": {
    "colab": {},
    "colab_type": "code",
    "id": "9z9kNszt0u6w"
   },
   "outputs": [],
   "source": [
    "X= df.iloc[:,:-1].astype(object)\n",
    "y=df['Result']"
   ]
  },
  {
   "cell_type": "code",
   "execution_count": null,
   "metadata": {},
   "outputs": [],
   "source": [
    "X.head(5)"
   ]
  },
  {
   "cell_type": "code",
   "execution_count": 15,
   "metadata": {
    "colab": {
     "base_uri": "https://localhost:8080/",
     "height": 278
    },
    "colab_type": "code",
    "id": "6QvK9Pre1Hpz",
    "outputId": "fee29efe-1056-4c3d-f89f-5c8266906086"
   },
   "outputs": [
    {
     "name": "stderr",
     "output_type": "stream",
     "text": [
      "C:\\Users\\Lenono\\anaconda3\\envs\\Phising_Classifier\\lib\\site-packages\\sklearn\\model_selection\\_split.py:296: FutureWarning: Setting a random_state has no effect since shuffle is False. This will raise an error in 0.24. You should leave random_state to its default (None), or set shuffle=True.\n",
      "  FutureWarning\n"
     ]
    },
    {
     "data": {
      "text/html": [
       "<div>\n",
       "<style scoped>\n",
       "    .dataframe tbody tr th:only-of-type {\n",
       "        vertical-align: middle;\n",
       "    }\n",
       "\n",
       "    .dataframe tbody tr th {\n",
       "        vertical-align: top;\n",
       "    }\n",
       "\n",
       "    .dataframe thead th {\n",
       "        text-align: right;\n",
       "    }\n",
       "</style>\n",
       "<table border=\"1\" class=\"dataframe\">\n",
       "  <thead>\n",
       "    <tr style=\"text-align: right;\">\n",
       "      <th></th>\n",
       "      <th>CV Mean</th>\n",
       "      <th>Std</th>\n",
       "    </tr>\n",
       "  </thead>\n",
       "  <tbody>\n",
       "    <tr>\n",
       "      <th>Svm</th>\n",
       "      <td>0.947083</td>\n",
       "      <td>0.007693</td>\n",
       "    </tr>\n",
       "    <tr>\n",
       "      <th>Logistic Regression</th>\n",
       "      <td>0.926005</td>\n",
       "      <td>0.007268</td>\n",
       "    </tr>\n",
       "    <tr>\n",
       "      <th>KNN</th>\n",
       "      <td>0.956121</td>\n",
       "      <td>0.018402</td>\n",
       "    </tr>\n",
       "    <tr>\n",
       "      <th>Decision Tree</th>\n",
       "      <td>0.961459</td>\n",
       "      <td>0.017515</td>\n",
       "    </tr>\n",
       "    <tr>\n",
       "      <th>Naive Bayes</th>\n",
       "      <td>0.601086</td>\n",
       "      <td>0.012935</td>\n",
       "    </tr>\n",
       "    <tr>\n",
       "      <th>Random Forest</th>\n",
       "      <td>0.969693</td>\n",
       "      <td>0.009873</td>\n",
       "    </tr>\n",
       "  </tbody>\n",
       "</table>\n",
       "</div>"
      ],
      "text/plain": [
       "                      CV Mean       Std\n",
       "Svm                  0.947083  0.007693\n",
       "Logistic Regression  0.926005  0.007268\n",
       "KNN                  0.956121  0.018402\n",
       "Decision Tree        0.961459  0.017515\n",
       "Naive Bayes          0.601086  0.012935\n",
       "Random Forest        0.969693  0.009873"
      ]
     },
     "execution_count": 15,
     "metadata": {},
     "output_type": "execute_result"
    }
   ],
   "source": [
    "\n",
    "kfold = KFold(n_splits=10, random_state=10) # k=10, split the data into 10 equal parts\n",
    "xyz=[]\n",
    "accuracy=[]\n",
    "std=[]\n",
    "classifiers=['Svm','Logistic Regression','KNN','Decision Tree','Naive Bayes','Random Forest']\n",
    "models=[SVC(kernel='rbf'),LogisticRegression(),KNeighborsClassifier(n_neighbors=1),DecisionTreeClassifier(),GaussianNB(),RandomForestClassifier(n_estimators=100)]\n",
    "for i in models:\n",
    "    model = i\n",
    "    cv_result = cross_val_score(model,X,y, cv = kfold,scoring = \"accuracy\")\n",
    "    cv_result=cv_result\n",
    "    xyz.append(cv_result.mean())\n",
    "    std.append(cv_result.std())\n",
    "    accuracy.append(cv_result)\n",
    "new_models_dataframe2=pd.DataFrame({'CV Mean':xyz,'Std':std},index=classifiers)       \n",
    "new_models_dataframe2"
   ]
  },
  {
   "cell_type": "code",
   "execution_count": 16,
   "metadata": {
    "colab": {
     "base_uri": "https://localhost:8080/",
     "height": 390
    },
    "colab_type": "code",
    "id": "PbRhaZ8A1Hf8",
    "outputId": "439dc242-c6a0-4d84-e59d-6fa25b87ff21"
   },
   "outputs": [
    {
     "data": {
      "image/png": "[encoded data removed]",
      "text/plain": [
       "<Figure size 864x432 with 1 Axes>"
      ]
     },
     "metadata": {},
     "output_type": "display_data"
    }
   ],
   "source": [
    "plt.subplots(figsize=(12,6))\n",
    "box=pd.DataFrame(accuracy,index=[classifiers])\n",
    "box.T.boxplot()\n",
    "plt.title(\"Comparsion of Models\")\n",
    "plt.show()"
   ]
  },
  {
   "cell_type": "code",
   "execution_count": 17,
   "metadata": {
    "colab": {
     "base_uri": "https://localhost:8080/",
     "height": 215
    },
    "colab_type": "code",
    "id": "H0LPvWC10vNZ",
    "outputId": "505b3b61-d58a-4659-8186-397020786bc0"
   },
   "outputs": [
    {
     "data": {
      "text/html": [
       "<div>\n",
       "<style scoped>\n",
       "    .dataframe tbody tr th:only-of-type {\n",
       "        vertical-align: middle;\n",
       "    }\n",
       "\n",
       "    .dataframe tbody tr th {\n",
       "        vertical-align: top;\n",
       "    }\n",
       "\n",
       "    .dataframe thead th {\n",
       "        text-align: right;\n",
       "    }\n",
       "</style>\n",
       "<table border=\"1\" class=\"dataframe\">\n",
       "  <thead>\n",
       "    <tr style=\"text-align: right;\">\n",
       "      <th></th>\n",
       "      <th>0</th>\n",
       "      <th>1</th>\n",
       "      <th>2</th>\n",
       "      <th>3</th>\n",
       "      <th>4</th>\n",
       "      <th>5</th>\n",
       "      <th>6</th>\n",
       "      <th>7</th>\n",
       "      <th>8</th>\n",
       "      <th>9</th>\n",
       "      <th>...</th>\n",
       "      <th>11</th>\n",
       "      <th>12</th>\n",
       "      <th>13</th>\n",
       "      <th>14</th>\n",
       "      <th>15</th>\n",
       "      <th>16</th>\n",
       "      <th>17</th>\n",
       "      <th>18</th>\n",
       "      <th>19</th>\n",
       "      <th>20</th>\n",
       "    </tr>\n",
       "  </thead>\n",
       "  <tbody>\n",
       "    <tr>\n",
       "      <th>0</th>\n",
       "      <td>0.240857</td>\n",
       "      <td>2.790134</td>\n",
       "      <td>-2.460660</td>\n",
       "      <td>-0.651789</td>\n",
       "      <td>0.170625</td>\n",
       "      <td>0.349632</td>\n",
       "      <td>-0.475998</td>\n",
       "      <td>-0.667330</td>\n",
       "      <td>1.257793</td>\n",
       "      <td>0.864782</td>\n",
       "      <td>...</td>\n",
       "      <td>-0.219467</td>\n",
       "      <td>0.138482</td>\n",
       "      <td>0.353048</td>\n",
       "      <td>0.675946</td>\n",
       "      <td>0.894278</td>\n",
       "      <td>-0.063213</td>\n",
       "      <td>-0.541114</td>\n",
       "      <td>0.501641</td>\n",
       "      <td>-1.250294</td>\n",
       "      <td>-0.987347</td>\n",
       "    </tr>\n",
       "    <tr>\n",
       "      <th>1</th>\n",
       "      <td>0.658318</td>\n",
       "      <td>-0.224639</td>\n",
       "      <td>-1.080069</td>\n",
       "      <td>-0.999167</td>\n",
       "      <td>-0.988480</td>\n",
       "      <td>0.746357</td>\n",
       "      <td>-0.188653</td>\n",
       "      <td>-0.085084</td>\n",
       "      <td>-1.176667</td>\n",
       "      <td>0.930242</td>\n",
       "      <td>...</td>\n",
       "      <td>-0.242841</td>\n",
       "      <td>-0.316790</td>\n",
       "      <td>0.068591</td>\n",
       "      <td>1.347992</td>\n",
       "      <td>1.088595</td>\n",
       "      <td>-0.118375</td>\n",
       "      <td>-0.210533</td>\n",
       "      <td>-0.260355</td>\n",
       "      <td>-0.101061</td>\n",
       "      <td>-0.053715</td>\n",
       "    </tr>\n",
       "    <tr>\n",
       "      <th>2</th>\n",
       "      <td>0.453251</td>\n",
       "      <td>0.686791</td>\n",
       "      <td>-0.873488</td>\n",
       "      <td>-2.215446</td>\n",
       "      <td>0.123773</td>\n",
       "      <td>-0.202833</td>\n",
       "      <td>1.087286</td>\n",
       "      <td>0.707612</td>\n",
       "      <td>-0.341302</td>\n",
       "      <td>0.124591</td>\n",
       "      <td>...</td>\n",
       "      <td>0.889354</td>\n",
       "      <td>0.593509</td>\n",
       "      <td>-0.020307</td>\n",
       "      <td>-0.253006</td>\n",
       "      <td>0.723389</td>\n",
       "      <td>0.024207</td>\n",
       "      <td>-0.529978</td>\n",
       "      <td>1.448838</td>\n",
       "      <td>-0.125124</td>\n",
       "      <td>0.012569</td>\n",
       "    </tr>\n",
       "    <tr>\n",
       "      <th>3</th>\n",
       "      <td>-2.059316</td>\n",
       "      <td>0.237690</td>\n",
       "      <td>-0.112323</td>\n",
       "      <td>-0.905261</td>\n",
       "      <td>-1.232791</td>\n",
       "      <td>0.668653</td>\n",
       "      <td>1.176992</td>\n",
       "      <td>-0.143339</td>\n",
       "      <td>0.517313</td>\n",
       "      <td>-0.129502</td>\n",
       "      <td>...</td>\n",
       "      <td>0.390874</td>\n",
       "      <td>0.737615</td>\n",
       "      <td>0.021002</td>\n",
       "      <td>0.586084</td>\n",
       "      <td>0.649596</td>\n",
       "      <td>1.406424</td>\n",
       "      <td>0.460842</td>\n",
       "      <td>0.385251</td>\n",
       "      <td>-0.024130</td>\n",
       "      <td>0.019499</td>\n",
       "    </tr>\n",
       "    <tr>\n",
       "      <th>4</th>\n",
       "      <td>1.083504</td>\n",
       "      <td>0.571745</td>\n",
       "      <td>-0.557610</td>\n",
       "      <td>-0.633726</td>\n",
       "      <td>-1.366600</td>\n",
       "      <td>0.336196</td>\n",
       "      <td>-1.236697</td>\n",
       "      <td>-0.080389</td>\n",
       "      <td>-0.515733</td>\n",
       "      <td>0.103772</td>\n",
       "      <td>...</td>\n",
       "      <td>-0.135934</td>\n",
       "      <td>-0.215368</td>\n",
       "      <td>0.118408</td>\n",
       "      <td>0.961872</td>\n",
       "      <td>0.650594</td>\n",
       "      <td>-0.154942</td>\n",
       "      <td>0.021585</td>\n",
       "      <td>-0.872449</td>\n",
       "      <td>1.398305</td>\n",
       "      <td>0.297530</td>\n",
       "    </tr>\n",
       "  </tbody>\n",
       "</table>\n",
       "<p>5 rows × 21 columns</p>\n",
       "</div>"
      ],
      "text/plain": [
       "         0         1         2         3         4         5         6   \\\n",
       "0  0.240857  2.790134 -2.460660 -0.651789  0.170625  0.349632 -0.475998   \n",
       "1  0.658318 -0.224639 -1.080069 -0.999167 -0.988480  0.746357 -0.188653   \n",
       "2  0.453251  0.686791 -0.873488 -2.215446  0.123773 -0.202833  1.087286   \n",
       "3 -2.059316  0.237690 -0.112323 -0.905261 -1.232791  0.668653  1.176992   \n",
       "4  1.083504  0.571745 -0.557610 -0.633726 -1.366600  0.336196 -1.236697   \n",
       "\n",
       "         7         8         9   ...        11        12        13        14  \\\n",
       "0 -0.667330  1.257793  0.864782  ... -0.219467  0.138482  0.353048  0.675946   \n",
       "1 -0.085084 -1.176667  0.930242  ... -0.242841 -0.316790  0.068591  1.347992   \n",
       "2  0.707612 -0.341302  0.124591  ...  0.889354  0.593509 -0.020307 -0.253006   \n",
       "3 -0.143339  0.517313 -0.129502  ...  0.390874  0.737615  0.021002  0.586084   \n",
       "4 -0.080389 -0.515733  0.103772  ... -0.135934 -0.215368  0.118408  0.961872   \n",
       "\n",
       "         15        16        17        18        19        20  \n",
       "0  0.894278 -0.063213 -0.541114  0.501641 -1.250294 -0.987347  \n",
       "1  1.088595 -0.118375 -0.210533 -0.260355 -0.101061 -0.053715  \n",
       "2  0.723389  0.024207 -0.529978  1.448838 -0.125124  0.012569  \n",
       "3  0.649596  1.406424  0.460842  0.385251 -0.024130  0.019499  \n",
       "4  0.650594 -0.154942  0.021585 -0.872449  1.398305  0.297530  \n",
       "\n",
       "[5 rows x 21 columns]"
      ]
     },
     "execution_count": 17,
     "metadata": {},
     "output_type": "execute_result"
    }
   ],
   "source": [
    "pca = PCA()\n",
    "X = pd.DataFrame(pca.fit_transform(X))\n",
    "X.head()"
   ]
  },
  {
   "cell_type": "code",
   "execution_count": 18,
   "metadata": {
    "colab": {},
    "colab_type": "code",
    "id": "89v5llKi0vQb"
   },
   "outputs": [],
   "source": [
    "X=X.iloc[:,:-8]#Dropped the last 8 columns"
   ]
  },
  {
   "cell_type": "code",
   "execution_count": 19,
   "metadata": {
    "colab": {},
    "colab_type": "code",
    "id": "Dcr0b89L0u95"
   },
   "outputs": [],
   "source": [
    "X_train,X_test,y_train,y_test= train_test_split(X,y,random_state=10,test_size=0.2)"
   ]
  },
  {
   "cell_type": "code",
   "execution_count": 20,
   "metadata": {
    "colab": {
     "base_uri": "https://localhost:8080/",
     "height": 70
    },
    "colab_type": "code",
    "id": "q5dcz1MG8gzB",
    "outputId": "2d223f9e-8e0b-4dd5-c454-44ebe07e5439"
   },
   "outputs": [],
   "source": [
    "#balance training data\n",
    "smote=SMOTE(random_state=10)\n",
    "X_train_smote,y_train_smote = smote.fit_sample(X_train.astype('float'),y_train)\n",
    "X_train_smote=pd.DataFrame(X_train_smote,columns=X_train.columns)"
   ]
  },
  {
   "cell_type": "code",
   "execution_count": 21,
   "metadata": {
    "colab": {
     "base_uri": "https://localhost:8080/",
     "height": 958
    },
    "colab_type": "code",
    "id": "ySrjRMNVF1fM",
    "outputId": "0466c083-a03f-47d3-e2f6-1806cf29c76e"
   },
   "outputs": [
    {
     "name": "stdout",
     "output_type": "stream",
     "text": [
      "Fitting 5 folds for each of 3 candidates, totalling 15 fits\n",
      "[CV] bootstrap=True, max_depth=49, max_features=auto, min_samples_leaf=1, min_samples_split=3, n_estimators=800 \n"
     ]
    },
    {
     "name": "stderr",
     "output_type": "stream",
     "text": [
      "[Parallel(n_jobs=1)]: Using backend SequentialBackend with 1 concurrent workers.\n"
     ]
    },
    {
     "name": "stdout",
     "output_type": "stream",
     "text": [
      "[CV]  bootstrap=True, max_depth=49, max_features=auto, min_samples_leaf=1, min_samples_split=3, n_estimators=800, score=0.952, total=  12.5s\n",
      "[CV] bootstrap=True, max_depth=49, max_features=auto, min_samples_leaf=1, min_samples_split=3, n_estimators=800 \n"
     ]
    },
    {
     "name": "stderr",
     "output_type": "stream",
     "text": [
      "[Parallel(n_jobs=1)]: Done   1 out of   1 | elapsed:   12.4s remaining:    0.0s\n"
     ]
    },
    {
     "name": "stdout",
     "output_type": "stream",
     "text": [
      "[CV]  bootstrap=True, max_depth=49, max_features=auto, min_samples_leaf=1, min_samples_split=3, n_estimators=800, score=0.963, total=  12.7s\n",
      "[CV] bootstrap=True, max_depth=49, max_features=auto, min_samples_leaf=1, min_samples_split=3, n_estimators=800 \n"
     ]
    },
    {
     "name": "stderr",
     "output_type": "stream",
     "text": [
      "[Parallel(n_jobs=1)]: Done   2 out of   2 | elapsed:   25.1s remaining:    0.0s\n"
     ]
    },
    {
     "name": "stdout",
     "output_type": "stream",
     "text": [
      "[CV]  bootstrap=True, max_depth=49, max_features=auto, min_samples_leaf=1, min_samples_split=3, n_estimators=800, score=0.960, total=  12.6s\n",
      "[CV] bootstrap=True, max_depth=49, max_features=auto, min_samples_leaf=1, min_samples_split=3, n_estimators=800 \n",
      "[CV]  bootstrap=True, max_depth=49, max_features=auto, min_samples_leaf=1, min_samples_split=3, n_estimators=800, score=0.960, total=  13.8s\n",
      "[CV] bootstrap=True, max_depth=49, max_features=auto, min_samples_leaf=1, min_samples_split=3, n_estimators=800 \n",
      "[CV]  bootstrap=True, max_depth=49, max_features=auto, min_samples_leaf=1, min_samples_split=3, n_estimators=800, score=0.959, total=  12.9s\n",
      "[CV] bootstrap=True, max_depth=50, max_features=auto, min_samples_leaf=1, min_samples_split=3, n_estimators=800 \n",
      "[CV]  bootstrap=True, max_depth=50, max_features=auto, min_samples_leaf=1, min_samples_split=3, n_estimators=800, score=0.952, total=  13.2s\n",
      "[CV] bootstrap=True, max_depth=50, max_features=auto, min_samples_leaf=1, min_samples_split=3, n_estimators=800 \n",
      "[CV]  bootstrap=True, max_depth=50, max_features=auto, min_samples_leaf=1, min_samples_split=3, n_estimators=800, score=0.963, total=  16.2s\n",
      "[CV] bootstrap=True, max_depth=50, max_features=auto, min_samples_leaf=1, min_samples_split=3, n_estimators=800 \n",
      "[CV]  bootstrap=True, max_depth=50, max_features=auto, min_samples_leaf=1, min_samples_split=3, n_estimators=800, score=0.960, total=  12.5s\n",
      "[CV] bootstrap=True, max_depth=50, max_features=auto, min_samples_leaf=1, min_samples_split=3, n_estimators=800 \n",
      "[CV]  bootstrap=True, max_depth=50, max_features=auto, min_samples_leaf=1, min_samples_split=3, n_estimators=800, score=0.960, total=  14.2s\n",
      "[CV] bootstrap=True, max_depth=50, max_features=auto, min_samples_leaf=1, min_samples_split=3, n_estimators=800 \n",
      "[CV]  bootstrap=True, max_depth=50, max_features=auto, min_samples_leaf=1, min_samples_split=3, n_estimators=800, score=0.959, total=  13.9s\n",
      "[CV] bootstrap=True, max_depth=51, max_features=auto, min_samples_leaf=1, min_samples_split=3, n_estimators=800 \n",
      "[CV]  bootstrap=True, max_depth=51, max_features=auto, min_samples_leaf=1, min_samples_split=3, n_estimators=800, score=0.952, total=  16.6s\n",
      "[CV] bootstrap=True, max_depth=51, max_features=auto, min_samples_leaf=1, min_samples_split=3, n_estimators=800 \n",
      "[CV]  bootstrap=True, max_depth=51, max_features=auto, min_samples_leaf=1, min_samples_split=3, n_estimators=800, score=0.963, total=  12.6s\n",
      "[CV] bootstrap=True, max_depth=51, max_features=auto, min_samples_leaf=1, min_samples_split=3, n_estimators=800 \n",
      "[CV]  bootstrap=True, max_depth=51, max_features=auto, min_samples_leaf=1, min_samples_split=3, n_estimators=800, score=0.960, total=  12.2s\n",
      "[CV] bootstrap=True, max_depth=51, max_features=auto, min_samples_leaf=1, min_samples_split=3, n_estimators=800 \n",
      "[CV]  bootstrap=True, max_depth=51, max_features=auto, min_samples_leaf=1, min_samples_split=3, n_estimators=800, score=0.960, total=  12.3s\n",
      "[CV] bootstrap=True, max_depth=51, max_features=auto, min_samples_leaf=1, min_samples_split=3, n_estimators=800 \n",
      "[CV]  bootstrap=True, max_depth=51, max_features=auto, min_samples_leaf=1, min_samples_split=3, n_estimators=800, score=0.959, total=  12.0s\n"
     ]
    },
    {
     "name": "stderr",
     "output_type": "stream",
     "text": [
      "[Parallel(n_jobs=1)]: Done  15 out of  15 | elapsed:  3.3min finished\n"
     ]
    },
    {
     "data": {
      "text/plain": [
       "GridSearchCV(cv=None, error_score=nan,\n",
       "             estimator=RandomForestClassifier(bootstrap=True, ccp_alpha=0.0,\n",
       "                                              class_weight=None,\n",
       "                                              criterion='gini', max_depth=None,\n",
       "                                              max_features='auto',\n",
       "                                              max_leaf_nodes=None,\n",
       "                                              max_samples=None,\n",
       "                                              min_impurity_decrease=0.0,\n",
       "                                              min_impurity_split=None,\n",
       "                                              min_samples_leaf=1,\n",
       "                                              min_samples_split=2,\n",
       "                                              min_weight_fraction_leaf=0.0,\n",
       "                                              n_estimators=100, n_jobs=None,\n",
       "                                              oob_score=False, random_state=10,\n",
       "                                              verbose=0, warm_start=False),\n",
       "             iid='deprecated', n_jobs=None,\n",
       "             param_grid={'bootstrap': [True], 'max_depth': [49, 50, 51],\n",
       "                         'max_features': ['auto'], 'min_samples_leaf': [1],\n",
       "                         'min_samples_split': [3], 'n_estimators': [800]},\n",
       "             pre_dispatch='2*n_jobs', refit=True, return_train_score=False,\n",
       "             scoring=None, verbose=3)"
      ]
     },
     "execution_count": 21,
     "metadata": {},
     "output_type": "execute_result"
    }
   ],
   "source": [
    "parameters={'bootstrap': [True],\n",
    "            'max_depth': [49,50,51],\n",
    "            'max_features': ['auto'],\n",
    "            'min_samples_leaf': [1],\n",
    "            'min_samples_split': [3],\n",
    "            'n_estimators': [800]}\n",
    "grid1=GridSearchCV(RandomForestClassifier(random_state=10),parameters,verbose=3)\n",
    "grid1.fit(X_train_smote,y_train_smote)"
   ]
  },
  {
   "cell_type": "code",
   "execution_count": 22,
   "metadata": {
    "colab": {
     "base_uri": "https://localhost:8080/",
     "height": 118
    },
    "colab_type": "code",
    "id": "H9UhmC3g-w_Y",
    "outputId": "1a29189c-c1b3-4098-a6aa-078be03c8acf"
   },
   "outputs": [
    {
     "data": {
      "text/plain": [
       "{'bootstrap': True,\n",
       " 'max_depth': 49,\n",
       " 'max_features': 'auto',\n",
       " 'min_samples_leaf': 1,\n",
       " 'min_samples_split': 3,\n",
       " 'n_estimators': 800}"
      ]
     },
     "execution_count": 22,
     "metadata": {},
     "output_type": "execute_result"
    }
   ],
   "source": [
    "grid1.best_params_"
   ]
  },
  {
   "cell_type": "code",
   "execution_count": 23,
   "metadata": {
    "colab": {},
    "colab_type": "code",
    "id": "kSu1l_-k8Pcu"
   },
   "outputs": [
    {
     "name": "stdout",
     "output_type": "stream",
     "text": [
      "Fitting 5 folds for each of 18 candidates, totalling 90 fits\n",
      "[CV] leaf_size=1, n_neighbors=1, p=1 .................................\n",
      "[CV] ..... leaf_size=1, n_neighbors=1, p=1, score=0.952, total=   0.1s\n",
      "[CV] leaf_size=1, n_neighbors=1, p=1 .................................\n"
     ]
    },
    {
     "name": "stderr",
     "output_type": "stream",
     "text": [
      "[Parallel(n_jobs=1)]: Using backend SequentialBackend with 1 concurrent workers.\n",
      "[Parallel(n_jobs=1)]: Done   1 out of   1 | elapsed:    0.0s remaining:    0.0s\n"
     ]
    },
    {
     "name": "stdout",
     "output_type": "stream",
     "text": [
      "[CV] ..... leaf_size=1, n_neighbors=1, p=1, score=0.953, total=   0.1s\n",
      "[CV] leaf_size=1, n_neighbors=1, p=1 .................................\n",
      "[CV] ..... leaf_size=1, n_neighbors=1, p=1, score=0.953, total=   0.1s\n",
      "[CV] leaf_size=1, n_neighbors=1, p=1 .................................\n"
     ]
    },
    {
     "name": "stderr",
     "output_type": "stream",
     "text": [
      "[Parallel(n_jobs=1)]: Done   2 out of   2 | elapsed:    0.2s remaining:    0.0s\n"
     ]
    },
    {
     "name": "stdout",
     "output_type": "stream",
     "text": [
      "[CV] ..... leaf_size=1, n_neighbors=1, p=1, score=0.955, total=   0.1s\n",
      "[CV] leaf_size=1, n_neighbors=1, p=1 .................................\n",
      "[CV] ..... leaf_size=1, n_neighbors=1, p=1, score=0.961, total=   0.1s\n",
      "[CV] leaf_size=1, n_neighbors=1, p=2 .................................\n",
      "[CV] ..... leaf_size=1, n_neighbors=1, p=2, score=0.950, total=   0.2s\n",
      "[CV] leaf_size=1, n_neighbors=1, p=2 .................................\n",
      "[CV] ..... leaf_size=1, n_neighbors=1, p=2, score=0.951, total=   0.2s\n",
      "[CV] leaf_size=1, n_neighbors=1, p=2 .................................\n",
      "[CV] ..... leaf_size=1, n_neighbors=1, p=2, score=0.953, total=   0.2s\n",
      "[CV] leaf_size=1, n_neighbors=1, p=2 .................................\n",
      "[CV] ..... leaf_size=1, n_neighbors=1, p=2, score=0.953, total=   0.2s\n",
      "[CV] leaf_size=1, n_neighbors=1, p=2 .................................\n",
      "[CV] ..... leaf_size=1, n_neighbors=1, p=2, score=0.960, total=   0.1s\n",
      "[CV] leaf_size=1, n_neighbors=4, p=1 .................................\n",
      "[CV] ..... leaf_size=1, n_neighbors=4, p=1, score=0.924, total=   0.2s\n",
      "[CV] leaf_size=1, n_neighbors=4, p=1 .................................\n",
      "[CV] ..... leaf_size=1, n_neighbors=4, p=1, score=0.929, total=   0.2s\n",
      "[CV] leaf_size=1, n_neighbors=4, p=1 .................................\n",
      "[CV] ..... leaf_size=1, n_neighbors=4, p=1, score=0.934, total=   0.2s\n",
      "[CV] leaf_size=1, n_neighbors=4, p=1 .................................\n",
      "[CV] ..... leaf_size=1, n_neighbors=4, p=1, score=0.933, total=   0.2s\n",
      "[CV] leaf_size=1, n_neighbors=4, p=1 .................................\n",
      "[CV] ..... leaf_size=1, n_neighbors=4, p=1, score=0.946, total=   0.2s\n",
      "[CV] leaf_size=1, n_neighbors=4, p=2 .................................\n",
      "[CV] ..... leaf_size=1, n_neighbors=4, p=2, score=0.921, total=   0.3s\n",
      "[CV] leaf_size=1, n_neighbors=4, p=2 .................................\n",
      "[CV] ..... leaf_size=1, n_neighbors=4, p=2, score=0.925, total=   0.3s\n",
      "[CV] leaf_size=1, n_neighbors=4, p=2 .................................\n",
      "[CV] ..... leaf_size=1, n_neighbors=4, p=2, score=0.933, total=   0.3s\n",
      "[CV] leaf_size=1, n_neighbors=4, p=2 .................................\n",
      "[CV] ..... leaf_size=1, n_neighbors=4, p=2, score=0.923, total=   0.3s\n",
      "[CV] leaf_size=1, n_neighbors=4, p=2 .................................\n",
      "[CV] ..... leaf_size=1, n_neighbors=4, p=2, score=0.944, total=   0.3s\n",
      "[CV] leaf_size=1, n_neighbors=5, p=1 .................................\n",
      "[CV] ..... leaf_size=1, n_neighbors=5, p=1, score=0.926, total=   0.2s\n",
      "[CV] leaf_size=1, n_neighbors=5, p=1 .................................\n",
      "[CV] ..... leaf_size=1, n_neighbors=5, p=1, score=0.931, total=   0.2s\n",
      "[CV] leaf_size=1, n_neighbors=5, p=1 .................................\n",
      "[CV] ..... leaf_size=1, n_neighbors=5, p=1, score=0.939, total=   0.2s\n",
      "[CV] leaf_size=1, n_neighbors=5, p=1 .................................\n",
      "[CV] ..... leaf_size=1, n_neighbors=5, p=1, score=0.937, total=   0.2s\n",
      "[CV] leaf_size=1, n_neighbors=5, p=1 .................................\n",
      "[CV] ..... leaf_size=1, n_neighbors=5, p=1, score=0.950, total=   0.2s\n",
      "[CV] leaf_size=1, n_neighbors=5, p=2 .................................\n",
      "[CV] ..... leaf_size=1, n_neighbors=5, p=2, score=0.925, total=   0.3s\n",
      "[CV] leaf_size=1, n_neighbors=5, p=2 .................................\n",
      "[CV] ..... leaf_size=1, n_neighbors=5, p=2, score=0.930, total=   0.4s\n",
      "[CV] leaf_size=1, n_neighbors=5, p=2 .................................\n",
      "[CV] ..... leaf_size=1, n_neighbors=5, p=2, score=0.937, total=   0.4s\n",
      "[CV] leaf_size=1, n_neighbors=5, p=2 .................................\n",
      "[CV] ..... leaf_size=1, n_neighbors=5, p=2, score=0.934, total=   0.4s\n",
      "[CV] leaf_size=1, n_neighbors=5, p=2 .................................\n",
      "[CV] ..... leaf_size=1, n_neighbors=5, p=2, score=0.949, total=   0.4s\n",
      "[CV] leaf_size=10, n_neighbors=1, p=1 ................................\n",
      "[CV] .... leaf_size=10, n_neighbors=1, p=1, score=0.950, total=   0.1s\n",
      "[CV] leaf_size=10, n_neighbors=1, p=1 ................................\n",
      "[CV] .... leaf_size=10, n_neighbors=1, p=1, score=0.950, total=   0.1s\n",
      "[CV] leaf_size=10, n_neighbors=1, p=1 ................................\n",
      "[CV] .... leaf_size=10, n_neighbors=1, p=1, score=0.952, total=   0.1s\n",
      "[CV] leaf_size=10, n_neighbors=1, p=1 ................................\n",
      "[CV] .... leaf_size=10, n_neighbors=1, p=1, score=0.956, total=   0.1s\n",
      "[CV] leaf_size=10, n_neighbors=1, p=1 ................................\n",
      "[CV] .... leaf_size=10, n_neighbors=1, p=1, score=0.962, total=   0.2s\n",
      "[CV] leaf_size=10, n_neighbors=1, p=2 ................................\n",
      "[CV] .... leaf_size=10, n_neighbors=1, p=2, score=0.949, total=   0.1s\n",
      "[CV] leaf_size=10, n_neighbors=1, p=2 ................................\n",
      "[CV] .... leaf_size=10, n_neighbors=1, p=2, score=0.948, total=   0.1s\n",
      "[CV] leaf_size=10, n_neighbors=1, p=2 ................................\n",
      "[CV] .... leaf_size=10, n_neighbors=1, p=2, score=0.951, total=   0.1s\n",
      "[CV] leaf_size=10, n_neighbors=1, p=2 ................................\n",
      "[CV] .... leaf_size=10, n_neighbors=1, p=2, score=0.954, total=   0.1s\n",
      "[CV] leaf_size=10, n_neighbors=1, p=2 ................................\n",
      "[CV] .... leaf_size=10, n_neighbors=1, p=2, score=0.961, total=   0.1s\n",
      "[CV] leaf_size=10, n_neighbors=4, p=1 ................................\n",
      "[CV] .... leaf_size=10, n_neighbors=4, p=1, score=0.924, total=   0.2s\n",
      "[CV] leaf_size=10, n_neighbors=4, p=1 ................................\n",
      "[CV] .... leaf_size=10, n_neighbors=4, p=1, score=0.929, total=   0.2s\n",
      "[CV] leaf_size=10, n_neighbors=4, p=1 ................................\n",
      "[CV] .... leaf_size=10, n_neighbors=4, p=1, score=0.936, total=   0.2s\n",
      "[CV] leaf_size=10, n_neighbors=4, p=1 ................................\n",
      "[CV] .... leaf_size=10, n_neighbors=4, p=1, score=0.933, total=   0.2s\n",
      "[CV] leaf_size=10, n_neighbors=4, p=1 ................................\n",
      "[CV] .... leaf_size=10, n_neighbors=4, p=1, score=0.944, total=   0.2s\n",
      "[CV] leaf_size=10, n_neighbors=4, p=2 ................................\n",
      "[CV] .... leaf_size=10, n_neighbors=4, p=2, score=0.921, total=   0.2s\n",
      "[CV] leaf_size=10, n_neighbors=4, p=2 ................................\n",
      "[CV] .... leaf_size=10, n_neighbors=4, p=2, score=0.925, total=   0.2s\n",
      "[CV] leaf_size=10, n_neighbors=4, p=2 ................................\n",
      "[CV] .... leaf_size=10, n_neighbors=4, p=2, score=0.935, total=   0.2s\n",
      "[CV] leaf_size=10, n_neighbors=4, p=2 ................................\n",
      "[CV] .... leaf_size=10, n_neighbors=4, p=2, score=0.925, total=   0.2s\n",
      "[CV] leaf_size=10, n_neighbors=4, p=2 ................................\n",
      "[CV] .... leaf_size=10, n_neighbors=4, p=2, score=0.942, total=   0.2s\n",
      "[CV] leaf_size=10, n_neighbors=5, p=1 ................................\n",
      "[CV] .... leaf_size=10, n_neighbors=5, p=1, score=0.925, total=   0.2s\n",
      "[CV] leaf_size=10, n_neighbors=5, p=1 ................................\n",
      "[CV] .... leaf_size=10, n_neighbors=5, p=1, score=0.931, total=   0.2s\n",
      "[CV] leaf_size=10, n_neighbors=5, p=1 ................................\n",
      "[CV] .... leaf_size=10, n_neighbors=5, p=1, score=0.939, total=   0.2s\n",
      "[CV] leaf_size=10, n_neighbors=5, p=1 ................................\n",
      "[CV] .... leaf_size=10, n_neighbors=5, p=1, score=0.939, total=   0.2s\n",
      "[CV] leaf_size=10, n_neighbors=5, p=1 ................................\n",
      "[CV] .... leaf_size=10, n_neighbors=5, p=1, score=0.949, total=   0.2s\n",
      "[CV] leaf_size=10, n_neighbors=5, p=2 ................................\n",
      "[CV] .... leaf_size=10, n_neighbors=5, p=2, score=0.924, total=   0.2s\n",
      "[CV] leaf_size=10, n_neighbors=5, p=2 ................................\n",
      "[CV] .... leaf_size=10, n_neighbors=5, p=2, score=0.930, total=   0.2s\n",
      "[CV] leaf_size=10, n_neighbors=5, p=2 ................................\n",
      "[CV] .... leaf_size=10, n_neighbors=5, p=2, score=0.938, total=   0.2s\n",
      "[CV] leaf_size=10, n_neighbors=5, p=2 ................................\n",
      "[CV] .... leaf_size=10, n_neighbors=5, p=2, score=0.934, total=   0.2s\n",
      "[CV] leaf_size=10, n_neighbors=5, p=2 ................................\n",
      "[CV] .... leaf_size=10, n_neighbors=5, p=2, score=0.949, total=   0.2s\n",
      "[CV] leaf_size=50, n_neighbors=1, p=1 ................................\n",
      "[CV] .... leaf_size=50, n_neighbors=1, p=1, score=0.950, total=   0.1s\n",
      "[CV] leaf_size=50, n_neighbors=1, p=1 ................................\n"
     ]
    },
    {
     "name": "stdout",
     "output_type": "stream",
     "text": [
      "[CV] .... leaf_size=50, n_neighbors=1, p=1, score=0.955, total=   0.1s\n",
      "[CV] leaf_size=50, n_neighbors=1, p=1 ................................\n",
      "[CV] .... leaf_size=50, n_neighbors=1, p=1, score=0.958, total=   0.1s\n",
      "[CV] leaf_size=50, n_neighbors=1, p=1 ................................\n",
      "[CV] .... leaf_size=50, n_neighbors=1, p=1, score=0.955, total=   0.1s\n",
      "[CV] leaf_size=50, n_neighbors=1, p=1 ................................\n",
      "[CV] .... leaf_size=50, n_neighbors=1, p=1, score=0.958, total=   0.1s\n",
      "[CV] leaf_size=50, n_neighbors=1, p=2 ................................\n",
      "[CV] .... leaf_size=50, n_neighbors=1, p=2, score=0.948, total=   0.1s\n",
      "[CV] leaf_size=50, n_neighbors=1, p=2 ................................\n",
      "[CV] .... leaf_size=50, n_neighbors=1, p=2, score=0.953, total=   0.1s\n",
      "[CV] leaf_size=50, n_neighbors=1, p=2 ................................\n",
      "[CV] .... leaf_size=50, n_neighbors=1, p=2, score=0.957, total=   0.1s\n",
      "[CV] leaf_size=50, n_neighbors=1, p=2 ................................\n",
      "[CV] .... leaf_size=50, n_neighbors=1, p=2, score=0.953, total=   0.1s\n",
      "[CV] leaf_size=50, n_neighbors=1, p=2 ................................\n",
      "[CV] .... leaf_size=50, n_neighbors=1, p=2, score=0.957, total=   0.1s\n",
      "[CV] leaf_size=50, n_neighbors=4, p=1 ................................\n",
      "[CV] .... leaf_size=50, n_neighbors=4, p=1, score=0.922, total=   0.2s\n",
      "[CV] leaf_size=50, n_neighbors=4, p=1 ................................\n",
      "[CV] .... leaf_size=50, n_neighbors=4, p=1, score=0.927, total=   0.2s\n",
      "[CV] leaf_size=50, n_neighbors=4, p=1 ................................\n",
      "[CV] .... leaf_size=50, n_neighbors=4, p=1, score=0.937, total=   0.2s\n",
      "[CV] leaf_size=50, n_neighbors=4, p=1 ................................\n",
      "[CV] .... leaf_size=50, n_neighbors=4, p=1, score=0.936, total=   0.2s\n",
      "[CV] leaf_size=50, n_neighbors=4, p=1 ................................\n",
      "[CV] .... leaf_size=50, n_neighbors=4, p=1, score=0.941, total=   0.2s\n",
      "[CV] leaf_size=50, n_neighbors=4, p=2 ................................\n",
      "[CV] .... leaf_size=50, n_neighbors=4, p=2, score=0.919, total=   0.2s\n",
      "[CV] leaf_size=50, n_neighbors=4, p=2 ................................\n",
      "[CV] .... leaf_size=50, n_neighbors=4, p=2, score=0.923, total=   0.2s\n",
      "[CV] leaf_size=50, n_neighbors=4, p=2 ................................\n",
      "[CV] .... leaf_size=50, n_neighbors=4, p=2, score=0.936, total=   0.2s\n",
      "[CV] leaf_size=50, n_neighbors=4, p=2 ................................\n",
      "[CV] .... leaf_size=50, n_neighbors=4, p=2, score=0.927, total=   0.2s\n",
      "[CV] leaf_size=50, n_neighbors=4, p=2 ................................\n",
      "[CV] .... leaf_size=50, n_neighbors=4, p=2, score=0.939, total=   0.2s\n",
      "[CV] leaf_size=50, n_neighbors=5, p=1 ................................\n",
      "[CV] .... leaf_size=50, n_neighbors=5, p=1, score=0.926, total=   0.2s\n",
      "[CV] leaf_size=50, n_neighbors=5, p=1 ................................\n",
      "[CV] .... leaf_size=50, n_neighbors=5, p=1, score=0.932, total=   0.2s\n",
      "[CV] leaf_size=50, n_neighbors=5, p=1 ................................\n",
      "[CV] .... leaf_size=50, n_neighbors=5, p=1, score=0.939, total=   0.2s\n",
      "[CV] leaf_size=50, n_neighbors=5, p=1 ................................\n",
      "[CV] .... leaf_size=50, n_neighbors=5, p=1, score=0.937, total=   0.2s\n",
      "[CV] leaf_size=50, n_neighbors=5, p=1 ................................\n",
      "[CV] .... leaf_size=50, n_neighbors=5, p=1, score=0.949, total=   0.2s\n",
      "[CV] leaf_size=50, n_neighbors=5, p=2 ................................\n",
      "[CV] .... leaf_size=50, n_neighbors=5, p=2, score=0.925, total=   0.2s\n",
      "[CV] leaf_size=50, n_neighbors=5, p=2 ................................\n",
      "[CV] .... leaf_size=50, n_neighbors=5, p=2, score=0.930, total=   0.2s\n",
      "[CV] leaf_size=50, n_neighbors=5, p=2 ................................\n",
      "[CV] .... leaf_size=50, n_neighbors=5, p=2, score=0.937, total=   0.2s\n",
      "[CV] leaf_size=50, n_neighbors=5, p=2 ................................\n",
      "[CV] .... leaf_size=50, n_neighbors=5, p=2, score=0.933, total=   0.2s\n",
      "[CV] leaf_size=50, n_neighbors=5, p=2 ................................\n",
      "[CV] .... leaf_size=50, n_neighbors=5, p=2, score=0.948, total=   0.2s\n"
     ]
    },
    {
     "name": "stderr",
     "output_type": "stream",
     "text": [
      "[Parallel(n_jobs=1)]: Done  90 out of  90 | elapsed:   17.4s finished\n"
     ]
    },
    {
     "data": {
      "text/plain": [
       "GridSearchCV(cv=None, error_score=nan,\n",
       "             estimator=KNeighborsClassifier(algorithm='auto', leaf_size=30,\n",
       "                                            metric='minkowski',\n",
       "                                            metric_params=None, n_jobs=None,\n",
       "                                            n_neighbors=5, p=2,\n",
       "                                            weights='uniform'),\n",
       "             iid='deprecated', n_jobs=None,\n",
       "             param_grid={'leaf_size': [1, 10, 50], 'n_neighbors': [1, 4, 5],\n",
       "                         'p': [1, 2]},\n",
       "             pre_dispatch='2*n_jobs', refit=True, return_train_score=False,\n",
       "             scoring=None, verbose=3)"
      ]
     },
     "execution_count": 23,
     "metadata": {},
     "output_type": "execute_result"
    }
   ],
   "source": [
    "params={'leaf_size':[1,10,50],\n",
    "        'n_neighbors':[1,4,5],\n",
    "         'p':[1,2]}\n",
    "grid2=GridSearchCV(KNeighborsClassifier(),params,verbose=3)\n",
    "grid2.fit(X_train_smote,y_train_smote)"
   ]
  },
  {
   "cell_type": "code",
   "execution_count": 24,
   "metadata": {
    "colab": {
     "base_uri": "https://localhost:8080/",
     "height": 34
    },
    "colab_type": "code",
    "id": "d3MUvdD3F9GI",
    "outputId": "018e2a27-fe0d-4d93-eb1b-4a5c6b4b1a91"
   },
   "outputs": [
    {
     "data": {
      "text/plain": [
       "{'leaf_size': 50, 'n_neighbors': 1, 'p': 1}"
      ]
     },
     "execution_count": 24,
     "metadata": {},
     "output_type": "execute_result"
    }
   ],
   "source": [
    "grid2.best_params_"
   ]
  },
  {
   "cell_type": "code",
   "execution_count": 25,
   "metadata": {
    "colab": {},
    "colab_type": "code",
    "id": "8bOiUksE0vBC"
   },
   "outputs": [],
   "source": [
    "model1=RandomForestClassifier(bootstrap=True,\n",
    "                             random_state=10,                                                     \n",
    "                             max_depth=49,\n",
    "                             n_estimators=800,\n",
    "                             max_features='auto',\n",
    "                             min_samples_split=3,\n",
    "                             min_samples_leaf=1)\n",
    "model1.fit(X_train_smote,y_train_smote)\n",
    "yhat=model1.predict(X_test)\n",
    "ytr=model1.predict(X_train_smote)"
   ]
  },
  {
   "cell_type": "code",
   "execution_count": 26,
   "metadata": {
    "colab": {
     "base_uri": "https://localhost:8080/",
     "height": 50
    },
    "colab_type": "code",
    "id": "jfSQnBmr0vHj",
    "outputId": "b89a476d-27bc-438d-fb9c-62abbd762d62"
   },
   "outputs": [
    {
     "name": "stdout",
     "output_type": "stream",
     "text": [
      "Training accuracy 0.98797636030161\n",
      "Testing accuracy 0.9624604251469923\n"
     ]
    }
   ],
   "source": [
    "\n",
    "print(\"Training accuracy\",accuracy_score(y_train_smote,ytr))\n",
    "print(\"Testing accuracy\",accuracy_score(y_test,yhat))"
   ]
  },
  {
   "cell_type": "code",
   "execution_count": 27,
   "metadata": {
    "colab": {
     "base_uri": "https://localhost:8080/",
     "height": 269
    },
    "colab_type": "code",
    "id": "vZLMpYpJ0vKZ",
    "outputId": "b9c0befa-3cd3-4f58-ad16-19b5189e3de6"
   },
   "outputs": [
    {
     "name": "stdout",
     "output_type": "stream",
     "text": [
      "col_0    -1     1\n",
      "Result           \n",
      "-1      915    46\n",
      " 1       37  1213\n",
      "\n",
      "\n",
      "              precision    recall  f1-score   support\n",
      "\n",
      "          -1       0.96      0.95      0.96       961\n",
      "           1       0.96      0.97      0.97      1250\n",
      "\n",
      "    accuracy                           0.96      2211\n",
      "   macro avg       0.96      0.96      0.96      2211\n",
      "weighted avg       0.96      0.96      0.96      2211\n",
      "\n"
     ]
    }
   ],
   "source": [
    "print(pd.crosstab(y_test,yhat))\n",
    "print(\"\\n\")\n",
    "print(classification_report(y_test,yhat))"
   ]
  },
  {
   "cell_type": "code",
   "execution_count": 28,
   "metadata": {
    "colab": {
     "base_uri": "https://localhost:8080/",
     "height": 320
    },
    "colab_type": "code",
    "id": "Sl2RDrSpKHRj",
    "outputId": "8ebbf0fe-1074-4baf-b960-2c8b6c2000a6"
   },
   "outputs": [
    {
     "data": {
      "image/png": "[encoded data removed]",
      "text/plain": [
       "<Figure size 1080x792 with 1 Axes>"
      ]
     },
     "metadata": {},
     "output_type": "display_data"
    }
   ],
   "source": [
    "#plotting Roc curve\n",
    "y_proba = model1.predict_proba(X_test)[::,1]\n",
    "fpr, tpr, _ = roc_curve(y_test,  y_proba)\n",
    "auc = roc_auc_score(y_test, y_proba)\n",
    "plt.plot(fpr,tpr,label=\" auc=\"+str(auc))\n",
    "rcParams['figure.figsize'] = 3,2\n",
    "plt.legend(loc=4)\n",
    "plt.show()"
   ]
  },
  {
   "cell_type": "code",
   "execution_count": 29,
   "metadata": {},
   "outputs": [],
   "source": [
    "import pickle"
   ]
  },
  {
   "cell_type": "code",
   "execution_count": 30,
   "metadata": {},
   "outputs": [],
   "source": [
    "pickle.dump(model1, open('model.pkl','wb'))"
   ]
  },
  {
   "cell_type": "code",
   "execution_count": null,
   "metadata": {},
   "outputs": [],
   "source": [
    "model_pred= pickle.load(open('model.pkl','rb'))\n",
    "print(model_pred.predict([[]]))"
   ]
  }
 ],
 "metadata": {
  "colab": {
   "name": "Phishing",
   "provenance": []
  },
  "kernelspec": {
   "display_name": "Python 3 (ipykernel)",
   "language": "python",
   "name": "python3"
  },
  "language_info": {
   "codemirror_mode": {
    "name": "ipython",
    "version": 3
   },
   "file_extension": ".py",
   "mimetype": "text/x-python",
   "name": "python",
   "nbconvert_exporter": "python",
   "pygments_lexer": "ipython3",
   "version": "3.7.11"
  }
 },
 "nbformat": 4,
 "nbformat_minor": 1
}
